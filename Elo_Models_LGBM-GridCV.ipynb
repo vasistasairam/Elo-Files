{
 "cells": [
  {
   "cell_type": "markdown",
   "metadata": {},
   "source": [
    "### Import Packages"
   ]
  },
  {
   "cell_type": "code",
   "execution_count": 1,
   "metadata": {
    "collapsed": true
   },
   "outputs": [],
   "source": [
    "import pandas as pd\n",
    "import numpy as np\n",
    "import seaborn as sns\n",
    "from math import sqrt\n",
    "import lightgbm as lgb\n",
    "from lightgbm import LGBMRegressor\n",
    "import matplotlib.pyplot as plt\n",
    "from sklearn.metrics import mean_squared_error, r2_score\n",
    "from sklearn.model_selection import StratifiedKFold, RepeatedKFold, train_test_split, GridSearchCV"
   ]
  },
  {
   "cell_type": "code",
   "execution_count": 2,
   "metadata": {},
   "outputs": [
    {
     "name": "stderr",
     "output_type": "stream",
     "text": [
      "C:\\Users\\HP\\Anaconda3\\lib\\site-packages\\IPython\\core\\interactiveshell.py:2698: DtypeWarning: Columns (94) have mixed types. Specify dtype option on import or set low_memory=False.\n",
      "  interactivity=interactivity, compiler=compiler, result=result)\n"
     ]
    },
    {
     "data": {
      "text/plain": [
       "(221526, 118)"
      ]
     },
     "execution_count": 2,
     "metadata": {},
     "output_type": "execute_result"
    }
   ],
   "source": [
    "hist_trans = pd.read_csv('C:\\\\Kaggle competetion datasets\\\\Elo Merchent Category Recommendation\\\\Elo Models\\\\historical_transactions.csv')\n",
    "hist_trans.shape"
   ]
  },
  {
   "cell_type": "code",
   "execution_count": 3,
   "metadata": {},
   "outputs": [
    {
     "data": {
      "text/html": [
       "<div>\n",
       "<style>\n",
       "    .dataframe thead tr:only-child th {\n",
       "        text-align: right;\n",
       "    }\n",
       "\n",
       "    .dataframe thead th {\n",
       "        text-align: left;\n",
       "    }\n",
       "\n",
       "    .dataframe tbody tr th {\n",
       "        vertical-align: top;\n",
       "    }\n",
       "</style>\n",
       "<table border=\"1\" class=\"dataframe\">\n",
       "  <thead>\n",
       "    <tr style=\"text-align: right;\">\n",
       "      <th></th>\n",
       "      <th>first_active_month</th>\n",
       "      <th>card_id</th>\n",
       "      <th>feature_1</th>\n",
       "      <th>feature_2</th>\n",
       "      <th>feature_3</th>\n",
       "      <th>target</th>\n",
       "      <th>mv0-1</th>\n",
       "      <th>mv1-2</th>\n",
       "      <th>mv2-3</th>\n",
       "      <th>mv3-4</th>\n",
       "      <th>...</th>\n",
       "      <th>purchase_coef</th>\n",
       "      <th>purchase_intercept</th>\n",
       "      <th>subsector_id_coef_count</th>\n",
       "      <th>subsector_id_coef_inter</th>\n",
       "      <th>subsector_id_coef_new</th>\n",
       "      <th>subsector_id_intercept_count</th>\n",
       "      <th>subsector_id_intercept_inter</th>\n",
       "      <th>subsector_id_intercept_new</th>\n",
       "      <th>trans_count_coef</th>\n",
       "      <th>trans_count_intercept</th>\n",
       "    </tr>\n",
       "  </thead>\n",
       "  <tbody>\n",
       "    <tr>\n",
       "      <th>0</th>\n",
       "      <td>2017-06</td>\n",
       "      <td>C_ID_92a2005557</td>\n",
       "      <td>5</td>\n",
       "      <td>2</td>\n",
       "      <td>1</td>\n",
       "      <td>-0.820283</td>\n",
       "      <td>81.0</td>\n",
       "      <td>19.0</td>\n",
       "      <td>7.0</td>\n",
       "      <td>1.0</td>\n",
       "      <td>...</td>\n",
       "      <td>-23.809091</td>\n",
       "      <td>-5.690909</td>\n",
       "      <td>9.245455</td>\n",
       "      <td>3.854545</td>\n",
       "      <td>1.830303</td>\n",
       "      <td>-13.200000</td>\n",
       "      <td>-0.200000</td>\n",
       "      <td>4.533333</td>\n",
       "      <td>28.109091</td>\n",
       "      <td>-2.109091</td>\n",
       "    </tr>\n",
       "    <tr>\n",
       "      <th>1</th>\n",
       "      <td>2017-01</td>\n",
       "      <td>C_ID_3d0044924f</td>\n",
       "      <td>4</td>\n",
       "      <td>1</td>\n",
       "      <td>0</td>\n",
       "      <td>0.392913</td>\n",
       "      <td>98.0</td>\n",
       "      <td>28.0</td>\n",
       "      <td>9.0</td>\n",
       "      <td>1.0</td>\n",
       "      <td>...</td>\n",
       "      <td>-22.246429</td>\n",
       "      <td>28.571429</td>\n",
       "      <td>9.867857</td>\n",
       "      <td>3.690110</td>\n",
       "      <td>0.703297</td>\n",
       "      <td>-2.676190</td>\n",
       "      <td>4.395604</td>\n",
       "      <td>8.868132</td>\n",
       "      <td>26.171429</td>\n",
       "      <td>-21.371429</td>\n",
       "    </tr>\n",
       "    <tr>\n",
       "      <th>2</th>\n",
       "      <td>2016-08</td>\n",
       "      <td>C_ID_d639edf6cd</td>\n",
       "      <td>2</td>\n",
       "      <td>2</td>\n",
       "      <td>0</td>\n",
       "      <td>0.688056</td>\n",
       "      <td>11.0</td>\n",
       "      <td>1.0</td>\n",
       "      <td>1.0</td>\n",
       "      <td>NaN</td>\n",
       "      <td>...</td>\n",
       "      <td>-2.264706</td>\n",
       "      <td>-11.750000</td>\n",
       "      <td>1.038235</td>\n",
       "      <td>0.525000</td>\n",
       "      <td>0.203571</td>\n",
       "      <td>4.925000</td>\n",
       "      <td>-0.933333</td>\n",
       "      <td>0.171429</td>\n",
       "      <td>2.335294</td>\n",
       "      <td>11.400000</td>\n",
       "    </tr>\n",
       "    <tr>\n",
       "      <th>3</th>\n",
       "      <td>2017-09</td>\n",
       "      <td>C_ID_186d6a6901</td>\n",
       "      <td>4</td>\n",
       "      <td>3</td>\n",
       "      <td>0</td>\n",
       "      <td>0.142495</td>\n",
       "      <td>46.0</td>\n",
       "      <td>11.0</td>\n",
       "      <td>NaN</td>\n",
       "      <td>NaN</td>\n",
       "      <td>...</td>\n",
       "      <td>-8.154762</td>\n",
       "      <td>-15.178571</td>\n",
       "      <td>5.190476</td>\n",
       "      <td>2.642857</td>\n",
       "      <td>0.964286</td>\n",
       "      <td>0.142857</td>\n",
       "      <td>2.142857</td>\n",
       "      <td>4.285714</td>\n",
       "      <td>9.357143</td>\n",
       "      <td>15.142857</td>\n",
       "    </tr>\n",
       "    <tr>\n",
       "      <th>4</th>\n",
       "      <td>2017-11</td>\n",
       "      <td>C_ID_cdbd2c0db2</td>\n",
       "      <td>1</td>\n",
       "      <td>3</td>\n",
       "      <td>0</td>\n",
       "      <td>-0.159749</td>\n",
       "      <td>83.0</td>\n",
       "      <td>14.0</td>\n",
       "      <td>1.0</td>\n",
       "      <td>1.0</td>\n",
       "      <td>...</td>\n",
       "      <td>-18.914286</td>\n",
       "      <td>-9.133333</td>\n",
       "      <td>7.600000</td>\n",
       "      <td>3.700000</td>\n",
       "      <td>1.800000</td>\n",
       "      <td>-0.266667</td>\n",
       "      <td>0.900000</td>\n",
       "      <td>2.600000</td>\n",
       "      <td>30.457143</td>\n",
       "      <td>-2.933333</td>\n",
       "    </tr>\n",
       "  </tbody>\n",
       "</table>\n",
       "<p>5 rows × 118 columns</p>\n",
       "</div>"
      ],
      "text/plain": [
       "  first_active_month          card_id  feature_1  feature_2  feature_3  \\\n",
       "0            2017-06  C_ID_92a2005557          5          2          1   \n",
       "1            2017-01  C_ID_3d0044924f          4          1          0   \n",
       "2            2016-08  C_ID_d639edf6cd          2          2          0   \n",
       "3            2017-09  C_ID_186d6a6901          4          3          0   \n",
       "4            2017-11  C_ID_cdbd2c0db2          1          3          0   \n",
       "\n",
       "     target  mv0-1  mv1-2  mv2-3  mv3-4          ...            purchase_coef  \\\n",
       "0 -0.820283   81.0   19.0    7.0    1.0          ...               -23.809091   \n",
       "1  0.392913   98.0   28.0    9.0    1.0          ...               -22.246429   \n",
       "2  0.688056   11.0    1.0    1.0    NaN          ...                -2.264706   \n",
       "3  0.142495   46.0   11.0    NaN    NaN          ...                -8.154762   \n",
       "4 -0.159749   83.0   14.0    1.0    1.0          ...               -18.914286   \n",
       "\n",
       "   purchase_intercept  subsector_id_coef_count  subsector_id_coef_inter  \\\n",
       "0           -5.690909                 9.245455                 3.854545   \n",
       "1           28.571429                 9.867857                 3.690110   \n",
       "2          -11.750000                 1.038235                 0.525000   \n",
       "3          -15.178571                 5.190476                 2.642857   \n",
       "4           -9.133333                 7.600000                 3.700000   \n",
       "\n",
       "   subsector_id_coef_new  subsector_id_intercept_count  \\\n",
       "0               1.830303                    -13.200000   \n",
       "1               0.703297                     -2.676190   \n",
       "2               0.203571                      4.925000   \n",
       "3               0.964286                      0.142857   \n",
       "4               1.800000                     -0.266667   \n",
       "\n",
       "   subsector_id_intercept_inter  subsector_id_intercept_new  trans_count_coef  \\\n",
       "0                     -0.200000                    4.533333         28.109091   \n",
       "1                      4.395604                    8.868132         26.171429   \n",
       "2                     -0.933333                    0.171429          2.335294   \n",
       "3                      2.142857                    4.285714          9.357143   \n",
       "4                      0.900000                    2.600000         30.457143   \n",
       "\n",
       "   trans_count_intercept  \n",
       "0              -2.109091  \n",
       "1             -21.371429  \n",
       "2              11.400000  \n",
       "3              15.142857  \n",
       "4              -2.933333  \n",
       "\n",
       "[5 rows x 118 columns]"
      ]
     },
     "execution_count": 3,
     "metadata": {},
     "output_type": "execute_result"
    }
   ],
   "source": [
    "hist_trans.head(5)"
   ]
  },
  {
   "cell_type": "code",
   "execution_count": 4,
   "metadata": {
    "scrolled": true
   },
   "outputs": [
    {
     "data": {
      "text/plain": [
       "first_active_month                       object\n",
       "card_id                                  object\n",
       "feature_1                                 int64\n",
       "feature_2                                 int64\n",
       "feature_3                                 int64\n",
       "target                                  float64\n",
       "mv0-1                                   float64\n",
       "mv1-2                                   float64\n",
       "mv2-3                                   float64\n",
       "mv3-4                                   float64\n",
       "mv4above                                float64\n",
       "tr0-02                                  float64\n",
       "tr02-05                                 float64\n",
       "tr05-1                                  float64\n",
       "tr1-3                                   float64\n",
       "tr3andabove                             float64\n",
       "trp0-02                                 float64\n",
       "trp02-05                                float64\n",
       "trp05-1                                 float64\n",
       "trp1-3                                  float64\n",
       "trp3andabove                            float64\n",
       "tru0-02                                 float64\n",
       "tru02-05                                float64\n",
       "tru05-1                                 float64\n",
       "tru1-3                                  float64\n",
       "tru3andabove                            float64\n",
       "trup0-02                                float64\n",
       "trup02-05                               float64\n",
       "trup05-1                                float64\n",
       "trup1-3                                 float64\n",
       "                                         ...   \n",
       "cat3_trend_coef                         float64\n",
       "cat3_trend_intercept                    float64\n",
       "city_trend_coef                         float64\n",
       "city_trend_intercept                    float64\n",
       "installments_trend_coef                 float64\n",
       "installments_trend_intercept            float64\n",
       "lag_diff_coef                            object\n",
       "lag_diff_intercept                      float64\n",
       "merchant_category_id_coef_count         float64\n",
       "merchant_category_id_coef_inter         float64\n",
       "merchant_category_id_coef_new           float64\n",
       "merchant_category_id_intercept_count    float64\n",
       "merchant_category_id_intercept_inter    float64\n",
       "merchant_category_id_intercept_new      float64\n",
       "merchant_id_coef_count                  float64\n",
       "merchant_id_coef_inter                  float64\n",
       "merchant_id_coef_new                    float64\n",
       "merchant_id_intercept_count             float64\n",
       "merchant_id_intercept_inter             float64\n",
       "merchant_id_intercept_new               float64\n",
       "purchase_coef                           float64\n",
       "purchase_intercept                      float64\n",
       "subsector_id_coef_count                 float64\n",
       "subsector_id_coef_inter                 float64\n",
       "subsector_id_coef_new                   float64\n",
       "subsector_id_intercept_count            float64\n",
       "subsector_id_intercept_inter            float64\n",
       "subsector_id_intercept_new              float64\n",
       "trans_count_coef                        float64\n",
       "trans_count_intercept                   float64\n",
       "Length: 118, dtype: object"
      ]
     },
     "execution_count": 4,
     "metadata": {},
     "output_type": "execute_result"
    }
   ],
   "source": [
    "hist_trans.dtypes"
   ]
  },
  {
   "cell_type": "code",
   "execution_count": 5,
   "metadata": {},
   "outputs": [
    {
     "data": {
      "text/plain": [
       "201917"
      ]
     },
     "execution_count": 5,
     "metadata": {},
     "output_type": "execute_result"
    }
   ],
   "source": [
    "len(hist_trans.card_id.unique())"
   ]
  },
  {
   "cell_type": "markdown",
   "metadata": {},
   "source": [
    "### Select all the columns except \"first_active_month\""
   ]
  },
  {
   "cell_type": "code",
   "execution_count": 6,
   "metadata": {},
   "outputs": [
    {
     "name": "stdout",
     "output_type": "stream",
     "text": [
      "(221526, 117)\n",
      "Index(['card_id', 'feature_1', 'feature_2', 'feature_3', 'target', 'mv0-1',\n",
      "       'mv1-2', 'mv2-3', 'mv3-4', 'mv4above',\n",
      "       ...\n",
      "       'purchase_coef', 'purchase_intercept', 'subsector_id_coef_count',\n",
      "       'subsector_id_coef_inter', 'subsector_id_coef_new',\n",
      "       'subsector_id_intercept_count', 'subsector_id_intercept_inter',\n",
      "       'subsector_id_intercept_new', 'trans_count_coef',\n",
      "       'trans_count_intercept'],\n",
      "      dtype='object', length=117)\n"
     ]
    }
   ],
   "source": [
    "hist_trans1 = pd.DataFrame(hist_trans.loc[:, hist_trans.columns!='first_active_month'])\n",
    "print(hist_trans1.shape)\n",
    "print(hist_trans1.columns)"
   ]
  },
  {
   "cell_type": "code",
   "execution_count": 7,
   "metadata": {},
   "outputs": [
    {
     "data": {
      "image/png": "[encoded data removed]",
      "text/plain": [
       "<Figure size 432x288 with 1 Axes>"
      ]
     },
     "metadata": {},
     "output_type": "display_data"
    }
   ],
   "source": [
    "sns.boxplot(x=hist_trans1[\"target\"])\n",
    "plt.show()"
   ]
  },
  {
   "cell_type": "markdown",
   "metadata": {},
   "source": [
    "### finding missing values"
   ]
  },
  {
   "cell_type": "code",
   "execution_count": 8,
   "metadata": {
    "scrolled": true
   },
   "outputs": [
    {
     "data": {
      "text/plain": [
       "card_id                                  0.000000\n",
       "feature_1                                0.000000\n",
       "feature_2                                0.000000\n",
       "feature_3                                0.000000\n",
       "target                                   0.000000\n",
       "mv0-1                                    0.791781\n",
       "mv1-2                                    8.528570\n",
       "mv2-3                                   24.676110\n",
       "mv3-4                                   41.006925\n",
       "mv4above                                20.692379\n",
       "tr0-02                                  16.310501\n",
       "tr02-05                                  6.643464\n",
       "tr05-1                                   4.601266\n",
       "tr1-3                                    4.050089\n",
       "tr3andabove                             15.141338\n",
       "trp0-02                                  0.000000\n",
       "trp02-05                                 0.000000\n",
       "trp05-1                                  0.000000\n",
       "trp1-3                                   0.000000\n",
       "trp3andabove                             0.000000\n",
       "tru0-02                                 18.381590\n",
       "tru02-05                                98.930148\n",
       "tru05-1                                 98.250770\n",
       "tru1-3                                  94.584834\n",
       "tru3andabove                            83.036754\n",
       "trup0-02                                15.353503\n",
       "trup02-05                               15.353503\n",
       "trup05-1                                15.353503\n",
       "trup1-3                                 15.353503\n",
       "trup3andabove                           15.353503\n",
       "                                          ...    \n",
       "cat3_trend_coef                          0.000000\n",
       "cat3_trend_intercept                     0.000000\n",
       "city_trend_coef                          0.000000\n",
       "city_trend_intercept                     0.000000\n",
       "installments_trend_coef                  0.000000\n",
       "installments_trend_intercept             0.000000\n",
       "lag_diff_coef                            0.000000\n",
       "lag_diff_intercept                       0.000000\n",
       "merchant_category_id_coef_count          0.000000\n",
       "merchant_category_id_coef_inter          0.000000\n",
       "merchant_category_id_coef_new            0.000000\n",
       "merchant_category_id_intercept_count     0.000000\n",
       "merchant_category_id_intercept_inter     0.000000\n",
       "merchant_category_id_intercept_new       0.000000\n",
       "merchant_id_coef_count                   0.000000\n",
       "merchant_id_coef_inter                   0.000000\n",
       "merchant_id_coef_new                     0.000000\n",
       "merchant_id_intercept_count              0.000000\n",
       "merchant_id_intercept_inter              0.000000\n",
       "merchant_id_intercept_new                0.000000\n",
       "purchase_coef                            0.000000\n",
       "purchase_intercept                       0.000000\n",
       "subsector_id_coef_count                  0.000000\n",
       "subsector_id_coef_inter                  0.000000\n",
       "subsector_id_coef_new                    0.000000\n",
       "subsector_id_intercept_count             0.000000\n",
       "subsector_id_intercept_inter             0.000000\n",
       "subsector_id_intercept_new               0.000000\n",
       "trans_count_coef                         0.000000\n",
       "trans_count_intercept                    0.000000\n",
       "Length: 117, dtype: float64"
      ]
     },
     "execution_count": 8,
     "metadata": {},
     "output_type": "execute_result"
    }
   ],
   "source": [
    "hist_trans1.isnull().sum()/hist_trans1.shape[0]*100"
   ]
  },
  {
   "cell_type": "markdown",
   "metadata": {},
   "source": [
    "### Repace Missing Values with 0."
   ]
  },
  {
   "cell_type": "code",
   "execution_count": 9,
   "metadata": {
    "scrolled": true
   },
   "outputs": [
    {
     "data": {
      "text/plain": [
       "card_id                                 0.0\n",
       "feature_1                               0.0\n",
       "feature_2                               0.0\n",
       "feature_3                               0.0\n",
       "target                                  0.0\n",
       "mv0-1                                   0.0\n",
       "mv1-2                                   0.0\n",
       "mv2-3                                   0.0\n",
       "mv3-4                                   0.0\n",
       "mv4above                                0.0\n",
       "tr0-02                                  0.0\n",
       "tr02-05                                 0.0\n",
       "tr05-1                                  0.0\n",
       "tr1-3                                   0.0\n",
       "tr3andabove                             0.0\n",
       "trp0-02                                 0.0\n",
       "trp02-05                                0.0\n",
       "trp05-1                                 0.0\n",
       "trp1-3                                  0.0\n",
       "trp3andabove                            0.0\n",
       "tru0-02                                 0.0\n",
       "tru02-05                                0.0\n",
       "tru05-1                                 0.0\n",
       "tru1-3                                  0.0\n",
       "tru3andabove                            0.0\n",
       "trup0-02                                0.0\n",
       "trup02-05                               0.0\n",
       "trup05-1                                0.0\n",
       "trup1-3                                 0.0\n",
       "trup3andabove                           0.0\n",
       "                                       ... \n",
       "cat3_trend_coef                         0.0\n",
       "cat3_trend_intercept                    0.0\n",
       "city_trend_coef                         0.0\n",
       "city_trend_intercept                    0.0\n",
       "installments_trend_coef                 0.0\n",
       "installments_trend_intercept            0.0\n",
       "lag_diff_coef                           0.0\n",
       "lag_diff_intercept                      0.0\n",
       "merchant_category_id_coef_count         0.0\n",
       "merchant_category_id_coef_inter         0.0\n",
       "merchant_category_id_coef_new           0.0\n",
       "merchant_category_id_intercept_count    0.0\n",
       "merchant_category_id_intercept_inter    0.0\n",
       "merchant_category_id_intercept_new      0.0\n",
       "merchant_id_coef_count                  0.0\n",
       "merchant_id_coef_inter                  0.0\n",
       "merchant_id_coef_new                    0.0\n",
       "merchant_id_intercept_count             0.0\n",
       "merchant_id_intercept_inter             0.0\n",
       "merchant_id_intercept_new               0.0\n",
       "purchase_coef                           0.0\n",
       "purchase_intercept                      0.0\n",
       "subsector_id_coef_count                 0.0\n",
       "subsector_id_coef_inter                 0.0\n",
       "subsector_id_coef_new                   0.0\n",
       "subsector_id_intercept_count            0.0\n",
       "subsector_id_intercept_inter            0.0\n",
       "subsector_id_intercept_new              0.0\n",
       "trans_count_coef                        0.0\n",
       "trans_count_intercept                   0.0\n",
       "Length: 117, dtype: float64"
      ]
     },
     "execution_count": 9,
     "metadata": {},
     "output_type": "execute_result"
    }
   ],
   "source": [
    "hist_trans1.replace(np.nan, 0, inplace=True)\n",
    "hist_trans1.isnull().sum()/hist_trans1.shape[0]*100"
   ]
  },
  {
   "cell_type": "code",
   "execution_count": 21,
   "metadata": {
    "scrolled": true
   },
   "outputs": [
    {
     "data": {
      "text/plain": [
       "card_id                                  object\n",
       "feature_1                                 int64\n",
       "feature_2                                 int64\n",
       "feature_3                                 int64\n",
       "target                                  float64\n",
       "mv0-1                                   float64\n",
       "mv1-2                                   float64\n",
       "mv2-3                                   float64\n",
       "mv3-4                                   float64\n",
       "mv4above                                float64\n",
       "tr0-02                                  float64\n",
       "tr02-05                                 float64\n",
       "tr05-1                                  float64\n",
       "tr1-3                                   float64\n",
       "tr3andabove                             float64\n",
       "trp0-02                                 float64\n",
       "trp02-05                                float64\n",
       "trp05-1                                 float64\n",
       "trp1-3                                  float64\n",
       "trp3andabove                            float64\n",
       "tru0-02                                 float64\n",
       "tru02-05                                float64\n",
       "tru05-1                                 float64\n",
       "tru1-3                                  float64\n",
       "tru3andabove                            float64\n",
       "trup0-02                                float64\n",
       "trup02-05                               float64\n",
       "trup05-1                                float64\n",
       "trup1-3                                 float64\n",
       "trup3andabove                           float64\n",
       "                                         ...   \n",
       "cat3_trend_coef                         float64\n",
       "cat3_trend_intercept                    float64\n",
       "city_trend_coef                         float64\n",
       "city_trend_intercept                    float64\n",
       "installments_trend_coef                 float64\n",
       "installments_trend_intercept            float64\n",
       "lag_diff_coef                            object\n",
       "lag_diff_intercept                      float64\n",
       "merchant_category_id_coef_count         float64\n",
       "merchant_category_id_coef_inter         float64\n",
       "merchant_category_id_coef_new           float64\n",
       "merchant_category_id_intercept_count    float64\n",
       "merchant_category_id_intercept_inter    float64\n",
       "merchant_category_id_intercept_new      float64\n",
       "merchant_id_coef_count                  float64\n",
       "merchant_id_coef_inter                  float64\n",
       "merchant_id_coef_new                    float64\n",
       "merchant_id_intercept_count             float64\n",
       "merchant_id_intercept_inter             float64\n",
       "merchant_id_intercept_new               float64\n",
       "purchase_coef                           float64\n",
       "purchase_intercept                      float64\n",
       "subsector_id_coef_count                 float64\n",
       "subsector_id_coef_inter                 float64\n",
       "subsector_id_coef_new                   float64\n",
       "subsector_id_intercept_count            float64\n",
       "subsector_id_intercept_inter            float64\n",
       "subsector_id_intercept_new              float64\n",
       "trans_count_coef                        float64\n",
       "trans_count_intercept                   float64\n",
       "Length: 117, dtype: object"
      ]
     },
     "execution_count": 21,
     "metadata": {},
     "output_type": "execute_result"
    }
   ],
   "source": [
    "hist_trans1.dtypes"
   ]
  },
  {
   "cell_type": "code",
   "execution_count": 10,
   "metadata": {
    "scrolled": true
   },
   "outputs": [
    {
     "data": {
      "text/plain": [
       "0         0.000000\n",
       "1         0.000000\n",
       "2         0.000000\n",
       "3         0.000000\n",
       "4         0.000000\n",
       "5         0.000000\n",
       "6         0.000000\n",
       "7         0.000000\n",
       "8         0.000000\n",
       "9         0.000000\n",
       "10        0.000000\n",
       "11        0.000000\n",
       "12        0.000000\n",
       "13        0.000000\n",
       "14        0.000000\n",
       "15        0.000000\n",
       "16        0.000000\n",
       "17        0.000000\n",
       "18        0.000000\n",
       "19        0.000000\n",
       "20        0.000000\n",
       "21        0.000000\n",
       "22        0.000000\n",
       "23        0.000000\n",
       "24        0.000000\n",
       "25        0.000000\n",
       "26        0.000000\n",
       "27        0.000000\n",
       "28        0.000000\n",
       "29        0.000000\n",
       "            ...   \n",
       "221496    1.000000\n",
       "221497    1.000000\n",
       "221498    1.000000\n",
       "221499    1.000000\n",
       "221500    1.000000\n",
       "221501    1.357143\n",
       "221502    1.000000\n",
       "221503    1.150350\n",
       "221504    1.000000\n",
       "221505    1.000000\n",
       "221506    1.300000\n",
       "221507    1.083333\n",
       "221508    1.300000\n",
       "221509    1.000000\n",
       "221510    1.000000\n",
       "221511    1.636364\n",
       "221512    1.000000\n",
       "221513    1.262238\n",
       "221514    1.000000\n",
       "221515    1.032967\n",
       "221516    1.190476\n",
       "221517    1.550000\n",
       "221518    2.714286\n",
       "221519    1.000000\n",
       "221520    2.700000\n",
       "221521    1.000000\n",
       "221522    1.090909\n",
       "221523    1.000000\n",
       "221524    1.000000\n",
       "221525    1.000000\n",
       "Name: lag_diff_coef, Length: 221526, dtype: float64"
      ]
     },
     "execution_count": 10,
     "metadata": {},
     "output_type": "execute_result"
    }
   ],
   "source": [
    "import regex as re\n",
    "hist_trans1['lag_diff_coef'] = hist_trans1['lag_diff_coef'].replace(r'[^\\w]', 0, regex = True)\n",
    "hist_trans1.lag_diff_coef"
   ]
  },
  {
   "cell_type": "code",
   "execution_count": null,
   "metadata": {
    "collapsed": true,
    "scrolled": true
   },
   "outputs": [],
   "source": []
  },
  {
   "cell_type": "code",
   "execution_count": 11,
   "metadata": {
    "scrolled": true
   },
   "outputs": [
    {
     "data": {
      "text/plain": [
       "card_id                                 category\n",
       "feature_1                                  int64\n",
       "feature_2                                  int64\n",
       "feature_3                                  int64\n",
       "target                                   float64\n",
       "mv0-1                                    float64\n",
       "mv1-2                                    float64\n",
       "mv2-3                                    float64\n",
       "mv3-4                                    float64\n",
       "mv4above                                 float64\n",
       "tr0-02                                   float64\n",
       "tr02-05                                  float64\n",
       "tr05-1                                   float64\n",
       "tr1-3                                    float64\n",
       "tr3andabove                              float64\n",
       "trp0-02                                  float64\n",
       "trp02-05                                 float64\n",
       "trp05-1                                  float64\n",
       "trp1-3                                   float64\n",
       "trp3andabove                             float64\n",
       "tru0-02                                  float64\n",
       "tru02-05                                 float64\n",
       "tru05-1                                  float64\n",
       "tru1-3                                   float64\n",
       "tru3andabove                             float64\n",
       "trup0-02                                 float64\n",
       "trup02-05                                float64\n",
       "trup05-1                                 float64\n",
       "trup1-3                                  float64\n",
       "trup3andabove                            float64\n",
       "                                          ...   \n",
       "cat3_trend_coef                          float64\n",
       "cat3_trend_intercept                     float64\n",
       "city_trend_coef                          float64\n",
       "city_trend_intercept                     float64\n",
       "installments_trend_coef                  float64\n",
       "installments_trend_intercept             float64\n",
       "lag_diff_coef                            float64\n",
       "lag_diff_intercept                       float64\n",
       "merchant_category_id_coef_count          float64\n",
       "merchant_category_id_coef_inter          float64\n",
       "merchant_category_id_coef_new            float64\n",
       "merchant_category_id_intercept_count     float64\n",
       "merchant_category_id_intercept_inter     float64\n",
       "merchant_category_id_intercept_new       float64\n",
       "merchant_id_coef_count                   float64\n",
       "merchant_id_coef_inter                   float64\n",
       "merchant_id_coef_new                     float64\n",
       "merchant_id_intercept_count              float64\n",
       "merchant_id_intercept_inter              float64\n",
       "merchant_id_intercept_new                float64\n",
       "purchase_coef                            float64\n",
       "purchase_intercept                       float64\n",
       "subsector_id_coef_count                  float64\n",
       "subsector_id_coef_inter                  float64\n",
       "subsector_id_coef_new                    float64\n",
       "subsector_id_intercept_count             float64\n",
       "subsector_id_intercept_inter             float64\n",
       "subsector_id_intercept_new               float64\n",
       "trans_count_coef                         float64\n",
       "trans_count_intercept                    float64\n",
       "Length: 117, dtype: object"
      ]
     },
     "execution_count": 11,
     "metadata": {},
     "output_type": "execute_result"
    }
   ],
   "source": [
    "hist_trans1['card_id'] = hist_trans1['card_id'].astype('category')\n",
    "hist_trans1.dtypes"
   ]
  },
  {
   "cell_type": "code",
   "execution_count": 13,
   "metadata": {},
   "outputs": [
    {
     "name": "stdout",
     "output_type": "stream",
     "text": [
      "(221526, 0)\n"
     ]
    },
    {
     "data": {
      "text/plain": [
       "(221526, 117)"
      ]
     },
     "execution_count": 13,
     "metadata": {},
     "output_type": "execute_result"
    }
   ],
   "source": [
    "\"\"\"object_cols = hist_trans1.select_dtypes(include = ['object'])\n",
    "other_cols = hist_trans1.select_dtypes(exclude = ['object'])\n",
    "print(object_cols.shape)\n",
    "other_cols.shape\"\"\""
   ]
  },
  {
   "cell_type": "code",
   "execution_count": 14,
   "metadata": {},
   "outputs": [
    {
     "data": {
      "text/plain": [
       "Index([], dtype='object')"
      ]
     },
     "execution_count": 14,
     "metadata": {},
     "output_type": "execute_result"
    }
   ],
   "source": [
    "#object_cols.columns"
   ]
  },
  {
   "cell_type": "code",
   "execution_count": 15,
   "metadata": {
    "scrolled": true
   },
   "outputs": [
    {
     "name": "stdout",
     "output_type": "stream",
     "text": [
      "<class 'pandas.core.frame.DataFrame'>\n"
     ]
    },
    {
     "data": {
      "text/plain": [
       "Series([], dtype: object)"
      ]
     },
     "execution_count": 15,
     "metadata": {},
     "output_type": "execute_result"
    }
   ],
   "source": [
    "\"\"\"object_cols = object_cols.apply(pd.to_numeric)\n",
    "print(type(object_cols))\n",
    "object_cols.dtypes\"\"\""
   ]
  },
  {
   "cell_type": "code",
   "execution_count": 16,
   "metadata": {},
   "outputs": [
    {
     "data": {
      "text/plain": [
       "(221526, 117)"
      ]
     },
     "execution_count": 16,
     "metadata": {},
     "output_type": "execute_result"
    }
   ],
   "source": [
    "#hist_trans_final = pd.concat([object_cols, other_cols], axis = 1)\n",
    "#hist_trans_final.shape"
   ]
  },
  {
   "cell_type": "code",
   "execution_count": 17,
   "metadata": {},
   "outputs": [
    {
     "data": {
      "text/plain": [
       "pandas.core.frame.DataFrame"
      ]
     },
     "execution_count": 17,
     "metadata": {},
     "output_type": "execute_result"
    }
   ],
   "source": [
    "#type(hist_trans_final)"
   ]
  },
  {
   "cell_type": "code",
   "execution_count": 12,
   "metadata": {
    "collapsed": true
   },
   "outputs": [],
   "source": [
    "hist_trans_final = hist_trans1.copy()"
   ]
  },
  {
   "cell_type": "code",
   "execution_count": 13,
   "metadata": {
    "collapsed": true
   },
   "outputs": [],
   "source": [
    "from sklearn.preprocessing import LabelEncoder\n",
    "le = LabelEncoder()\n",
    "hist_trans_final['card_id'] = le.fit_transform(hist_trans1.card_id)"
   ]
  },
  {
   "cell_type": "code",
   "execution_count": 80,
   "metadata": {
    "scrolled": true
   },
   "outputs": [
    {
     "data": {
      "text/html": [
       "<div>\n",
       "<style>\n",
       "    .dataframe thead tr:only-child th {\n",
       "        text-align: right;\n",
       "    }\n",
       "\n",
       "    .dataframe thead th {\n",
       "        text-align: left;\n",
       "    }\n",
       "\n",
       "    .dataframe tbody tr th {\n",
       "        vertical-align: top;\n",
       "    }\n",
       "</style>\n",
       "<table border=\"1\" class=\"dataframe\">\n",
       "  <thead>\n",
       "    <tr style=\"text-align: right;\">\n",
       "      <th></th>\n",
       "      <th>card_id</th>\n",
       "      <th>feature_1</th>\n",
       "      <th>feature_2</th>\n",
       "      <th>feature_3</th>\n",
       "      <th>target</th>\n",
       "      <th>mv0-1</th>\n",
       "      <th>mv1-2</th>\n",
       "      <th>mv2-3</th>\n",
       "      <th>mv3-4</th>\n",
       "      <th>mv4above</th>\n",
       "      <th>...</th>\n",
       "      <th>purchase_coef</th>\n",
       "      <th>purchase_intercept</th>\n",
       "      <th>subsector_id_coef_count</th>\n",
       "      <th>subsector_id_coef_inter</th>\n",
       "      <th>subsector_id_coef_new</th>\n",
       "      <th>subsector_id_intercept_count</th>\n",
       "      <th>subsector_id_intercept_inter</th>\n",
       "      <th>subsector_id_intercept_new</th>\n",
       "      <th>trans_count_coef</th>\n",
       "      <th>trans_count_intercept</th>\n",
       "    </tr>\n",
       "  </thead>\n",
       "  <tbody>\n",
       "    <tr>\n",
       "      <th>0</th>\n",
       "      <td>115545</td>\n",
       "      <td>5</td>\n",
       "      <td>2</td>\n",
       "      <td>1</td>\n",
       "      <td>-0.820283</td>\n",
       "      <td>81.0</td>\n",
       "      <td>19.0</td>\n",
       "      <td>7.0</td>\n",
       "      <td>1.0</td>\n",
       "      <td>12.0</td>\n",
       "      <td>...</td>\n",
       "      <td>-23.809091</td>\n",
       "      <td>-5.690909</td>\n",
       "      <td>9.245455</td>\n",
       "      <td>3.854545</td>\n",
       "      <td>1.830303</td>\n",
       "      <td>-13.200000</td>\n",
       "      <td>-0.200000</td>\n",
       "      <td>4.533333</td>\n",
       "      <td>28.109091</td>\n",
       "      <td>-2.109091</td>\n",
       "    </tr>\n",
       "    <tr>\n",
       "      <th>1</th>\n",
       "      <td>48216</td>\n",
       "      <td>4</td>\n",
       "      <td>1</td>\n",
       "      <td>0</td>\n",
       "      <td>0.392913</td>\n",
       "      <td>98.0</td>\n",
       "      <td>28.0</td>\n",
       "      <td>9.0</td>\n",
       "      <td>1.0</td>\n",
       "      <td>16.0</td>\n",
       "      <td>...</td>\n",
       "      <td>-22.246429</td>\n",
       "      <td>28.571429</td>\n",
       "      <td>9.867857</td>\n",
       "      <td>3.690110</td>\n",
       "      <td>0.703297</td>\n",
       "      <td>-2.676190</td>\n",
       "      <td>4.395604</td>\n",
       "      <td>8.868132</td>\n",
       "      <td>26.171429</td>\n",
       "      <td>-21.371429</td>\n",
       "    </tr>\n",
       "    <tr>\n",
       "      <th>2</th>\n",
       "      <td>168668</td>\n",
       "      <td>2</td>\n",
       "      <td>2</td>\n",
       "      <td>0</td>\n",
       "      <td>0.688056</td>\n",
       "      <td>11.0</td>\n",
       "      <td>1.0</td>\n",
       "      <td>1.0</td>\n",
       "      <td>0.0</td>\n",
       "      <td>1.0</td>\n",
       "      <td>...</td>\n",
       "      <td>-2.264706</td>\n",
       "      <td>-11.750000</td>\n",
       "      <td>1.038235</td>\n",
       "      <td>0.525000</td>\n",
       "      <td>0.203571</td>\n",
       "      <td>4.925000</td>\n",
       "      <td>-0.933333</td>\n",
       "      <td>0.171429</td>\n",
       "      <td>2.335294</td>\n",
       "      <td>11.400000</td>\n",
       "    </tr>\n",
       "    <tr>\n",
       "      <th>3</th>\n",
       "      <td>19257</td>\n",
       "      <td>4</td>\n",
       "      <td>3</td>\n",
       "      <td>0</td>\n",
       "      <td>0.142495</td>\n",
       "      <td>46.0</td>\n",
       "      <td>11.0</td>\n",
       "      <td>0.0</td>\n",
       "      <td>0.0</td>\n",
       "      <td>2.0</td>\n",
       "      <td>...</td>\n",
       "      <td>-8.154762</td>\n",
       "      <td>-15.178571</td>\n",
       "      <td>5.190476</td>\n",
       "      <td>2.642857</td>\n",
       "      <td>0.964286</td>\n",
       "      <td>0.142857</td>\n",
       "      <td>2.142857</td>\n",
       "      <td>4.285714</td>\n",
       "      <td>9.357143</td>\n",
       "      <td>15.142857</td>\n",
       "    </tr>\n",
       "    <tr>\n",
       "      <th>4</th>\n",
       "      <td>161983</td>\n",
       "      <td>1</td>\n",
       "      <td>3</td>\n",
       "      <td>0</td>\n",
       "      <td>-0.159749</td>\n",
       "      <td>83.0</td>\n",
       "      <td>14.0</td>\n",
       "      <td>1.0</td>\n",
       "      <td>1.0</td>\n",
       "      <td>3.0</td>\n",
       "      <td>...</td>\n",
       "      <td>-18.914286</td>\n",
       "      <td>-9.133333</td>\n",
       "      <td>7.600000</td>\n",
       "      <td>3.700000</td>\n",
       "      <td>1.800000</td>\n",
       "      <td>-0.266667</td>\n",
       "      <td>0.900000</td>\n",
       "      <td>2.600000</td>\n",
       "      <td>30.457143</td>\n",
       "      <td>-2.933333</td>\n",
       "    </tr>\n",
       "  </tbody>\n",
       "</table>\n",
       "<p>5 rows × 117 columns</p>\n",
       "</div>"
      ],
      "text/plain": [
       "   card_id  feature_1  feature_2  feature_3    target  mv0-1  mv1-2  mv2-3  \\\n",
       "0   115545          5          2          1 -0.820283   81.0   19.0    7.0   \n",
       "1    48216          4          1          0  0.392913   98.0   28.0    9.0   \n",
       "2   168668          2          2          0  0.688056   11.0    1.0    1.0   \n",
       "3    19257          4          3          0  0.142495   46.0   11.0    0.0   \n",
       "4   161983          1          3          0 -0.159749   83.0   14.0    1.0   \n",
       "\n",
       "   mv3-4  mv4above          ...            purchase_coef  purchase_intercept  \\\n",
       "0    1.0      12.0          ...               -23.809091           -5.690909   \n",
       "1    1.0      16.0          ...               -22.246429           28.571429   \n",
       "2    0.0       1.0          ...                -2.264706          -11.750000   \n",
       "3    0.0       2.0          ...                -8.154762          -15.178571   \n",
       "4    1.0       3.0          ...               -18.914286           -9.133333   \n",
       "\n",
       "   subsector_id_coef_count  subsector_id_coef_inter  subsector_id_coef_new  \\\n",
       "0                 9.245455                 3.854545               1.830303   \n",
       "1                 9.867857                 3.690110               0.703297   \n",
       "2                 1.038235                 0.525000               0.203571   \n",
       "3                 5.190476                 2.642857               0.964286   \n",
       "4                 7.600000                 3.700000               1.800000   \n",
       "\n",
       "   subsector_id_intercept_count  subsector_id_intercept_inter  \\\n",
       "0                    -13.200000                     -0.200000   \n",
       "1                     -2.676190                      4.395604   \n",
       "2                      4.925000                     -0.933333   \n",
       "3                      0.142857                      2.142857   \n",
       "4                     -0.266667                      0.900000   \n",
       "\n",
       "   subsector_id_intercept_new  trans_count_coef  trans_count_intercept  \n",
       "0                    4.533333         28.109091              -2.109091  \n",
       "1                    8.868132         26.171429             -21.371429  \n",
       "2                    0.171429          2.335294              11.400000  \n",
       "3                    4.285714          9.357143              15.142857  \n",
       "4                    2.600000         30.457143              -2.933333  \n",
       "\n",
       "[5 rows x 117 columns]"
      ]
     },
     "execution_count": 80,
     "metadata": {},
     "output_type": "execute_result"
    }
   ],
   "source": [
    "hist_trans_final.dtypes\n",
    "hist_trans_final.head()"
   ]
  },
  {
   "cell_type": "code",
   "execution_count": 14,
   "metadata": {
    "collapsed": true
   },
   "outputs": [],
   "source": [
    "X = hist_trans1.copy().drop('target', axis = 1)\n",
    "Y = hist_trans1['target']\n",
    "\n",
    "param = {'boosting_type': 'gbdt',\n",
    "          'max_depth' : -1}\n",
    "\n",
    "grid_param = {'num_leaves': [np.arange(30,80, 1)],\n",
    "         'min_data_in_leaf': [np.arange(10,45, 1)], \n",
    "         'objective':['regression'],\n",
    "         'max_depth': [np.arange(1,20, 1)],\n",
    "         'learning_rate': [0.011, 0.015, 0.019, 0.025],\n",
    "         \"boosting\": [\"gbdt\",'rf','dart', 'goss'],\n",
    "         \"feature_fraction\": [0.5,0.6,0.7,0.8,0.9],\n",
    "         \"bagging_freq\": [np.arange(1, 10, 1)],\n",
    "         \"bagging_fraction\": [0.6,0.7,0.8,0.9],\n",
    "         \"bagging_seed\": [11],\n",
    "         \"metric\": ['rmse','mae','mse'],\n",
    "         \"lambda_l1\": [0.03,0.05,0.07,0.08,0.09],\n",
    "         \"lambda_l2\": [0.03,0.05,0.07,0.08,0.09],\n",
    "         \"verbosity\": [-1],\n",
    "         \"nthread\": [4],\n",
    "         \"random_state\": [1]}\n",
    "\n",
    "trainX, valX, trainY, valY = train_test_split(X,Y, test_size = 0.2, random_state = 1, shuffle = True)\n",
    "#trainY = trainY.ravel()\n",
    "\n",
    "d_train = lgb.Dataset(trainX, label = trainY, categorical_feature = ['card_id'])"
   ]
  },
  {
   "cell_type": "code",
   "execution_count": null,
   "metadata": {
    "collapsed": true,
    "scrolled": true
   },
   "outputs": [],
   "source": []
  },
  {
   "cell_type": "code",
   "execution_count": null,
   "metadata": {
    "collapsed": true
   },
   "outputs": [],
   "source": []
  },
  {
   "cell_type": "code",
   "execution_count": 16,
   "metadata": {
    "collapsed": true
   },
   "outputs": [],
   "source": [
    "X = hist_trans_final.copy().drop('target', axis = 1)\n",
    "Y = hist_trans_final['target']\n",
    "\n",
    "\n",
    "grid_param = {'num_leaves': [30,40,60, 80],\n",
    "              'boosting_type': ['gbdt'],\n",
    "         'min_data_in_leaf': [10, 15, 20], \n",
    "         'objective':['regression'],\n",
    "         'max_depth': [15, 20, 25],\n",
    "         'learning_rate': [0.011, 0.015, 0.025],\n",
    "         \"verbosity\": [-1],\n",
    "         \"nthread\": [4]}\n",
    "\n",
    "trainX, valX, trainY, valY = train_test_split(X,Y, test_size = 0.2, random_state = 1, shuffle = True)\n",
    "#trainY = trainY.ravel()\n",
    "\n",
    "d_train = lgb.Dataset(trainX, label = trainY, categorical_feature = ['card_id'])"
   ]
  },
  {
   "cell_type": "code",
   "execution_count": null,
   "metadata": {
    "collapsed": true
   },
   "outputs": [],
   "source": []
  },
  {
   "cell_type": "markdown",
   "metadata": {},
   "source": [
    "### training and prediction"
   ]
  },
  {
   "cell_type": "code",
   "execution_count": 17,
   "metadata": {
    "scrolled": true
   },
   "outputs": [
    {
     "name": "stderr",
     "output_type": "stream",
     "text": [
      "C:\\Users\\HP\\Anaconda3\\lib\\site-packages\\sklearn\\externals\\joblib\\externals\\loky\\process_executor.py:700: UserWarning: A worker stopped while some jobs were given to the executor. This can be caused by a too short worker timeout or by a memory leak.\n",
      "  \"timeout or by a memory leak.\", UserWarning\n"
     ]
    },
    {
     "ename": "KeyboardInterrupt",
     "evalue": "",
     "output_type": "error",
     "traceback": [
      "\u001b[1;31m---------------------------------------------------------------------------\u001b[0m",
      "\u001b[1;31mKeyboardInterrupt\u001b[0m                         Traceback (most recent call last)",
      "\u001b[1;32m<ipython-input-17-201227a4ddf6>\u001b[0m in \u001b[0;36m<module>\u001b[1;34m()\u001b[0m\n\u001b[0;32m      1\u001b[0m \u001b[0mlightGBM\u001b[0m \u001b[1;33m=\u001b[0m \u001b[0mLGBMRegressor\u001b[0m\u001b[1;33m(\u001b[0m\u001b[0mn_estimators\u001b[0m\u001b[1;33m=\u001b[0m\u001b[1;36m100\u001b[0m\u001b[1;33m)\u001b[0m\u001b[1;33m\u001b[0m\u001b[0m\n\u001b[0;32m      2\u001b[0m \u001b[0mgrid_cv\u001b[0m \u001b[1;33m=\u001b[0m \u001b[0mGridSearchCV\u001b[0m\u001b[1;33m(\u001b[0m\u001b[0mlightGBM\u001b[0m\u001b[1;33m,\u001b[0m \u001b[0mparam_grid\u001b[0m\u001b[1;33m=\u001b[0m\u001b[0mgrid_param\u001b[0m\u001b[1;33m,\u001b[0m \u001b[0mcv\u001b[0m\u001b[1;33m=\u001b[0m\u001b[1;36m10\u001b[0m\u001b[1;33m,\u001b[0m \u001b[0mn_jobs\u001b[0m \u001b[1;33m=\u001b[0m \u001b[1;33m-\u001b[0m\u001b[1;36m1\u001b[0m\u001b[1;33m)\u001b[0m\u001b[1;33m\u001b[0m\u001b[0m\n\u001b[1;32m----> 3\u001b[1;33m \u001b[0mgrid_cv\u001b[0m\u001b[1;33m.\u001b[0m\u001b[0mfit\u001b[0m\u001b[1;33m(\u001b[0m\u001b[0mtrainX\u001b[0m\u001b[1;33m,\u001b[0m \u001b[0mtrainY\u001b[0m\u001b[1;33m)\u001b[0m\u001b[1;33m\u001b[0m\u001b[0m\n\u001b[0m",
      "\u001b[1;32m~\\Anaconda3\\lib\\site-packages\\sklearn\\model_selection\\_search.py\u001b[0m in \u001b[0;36mfit\u001b[1;34m(self, X, y, groups, **fit_params)\u001b[0m\n\u001b[0;32m    720\u001b[0m                 \u001b[1;32mreturn\u001b[0m \u001b[0mresults_container\u001b[0m\u001b[1;33m[\u001b[0m\u001b[1;36m0\u001b[0m\u001b[1;33m]\u001b[0m\u001b[1;33m\u001b[0m\u001b[0m\n\u001b[0;32m    721\u001b[0m \u001b[1;33m\u001b[0m\u001b[0m\n\u001b[1;32m--> 722\u001b[1;33m             \u001b[0mself\u001b[0m\u001b[1;33m.\u001b[0m\u001b[0m_run_search\u001b[0m\u001b[1;33m(\u001b[0m\u001b[0mevaluate_candidates\u001b[0m\u001b[1;33m)\u001b[0m\u001b[1;33m\u001b[0m\u001b[0m\n\u001b[0m\u001b[0;32m    723\u001b[0m \u001b[1;33m\u001b[0m\u001b[0m\n\u001b[0;32m    724\u001b[0m         \u001b[0mresults\u001b[0m \u001b[1;33m=\u001b[0m \u001b[0mresults_container\u001b[0m\u001b[1;33m[\u001b[0m\u001b[1;36m0\u001b[0m\u001b[1;33m]\u001b[0m\u001b[1;33m\u001b[0m\u001b[0m\n",
      "\u001b[1;32m~\\Anaconda3\\lib\\site-packages\\sklearn\\model_selection\\_search.py\u001b[0m in \u001b[0;36m_run_search\u001b[1;34m(self, evaluate_candidates)\u001b[0m\n\u001b[0;32m   1189\u001b[0m     \u001b[1;32mdef\u001b[0m \u001b[0m_run_search\u001b[0m\u001b[1;33m(\u001b[0m\u001b[0mself\u001b[0m\u001b[1;33m,\u001b[0m \u001b[0mevaluate_candidates\u001b[0m\u001b[1;33m)\u001b[0m\u001b[1;33m:\u001b[0m\u001b[1;33m\u001b[0m\u001b[0m\n\u001b[0;32m   1190\u001b[0m         \u001b[1;34m\"\"\"Search all candidates in param_grid\"\"\"\u001b[0m\u001b[1;33m\u001b[0m\u001b[0m\n\u001b[1;32m-> 1191\u001b[1;33m         \u001b[0mevaluate_candidates\u001b[0m\u001b[1;33m(\u001b[0m\u001b[0mParameterGrid\u001b[0m\u001b[1;33m(\u001b[0m\u001b[0mself\u001b[0m\u001b[1;33m.\u001b[0m\u001b[0mparam_grid\u001b[0m\u001b[1;33m)\u001b[0m\u001b[1;33m)\u001b[0m\u001b[1;33m\u001b[0m\u001b[0m\n\u001b[0m\u001b[0;32m   1192\u001b[0m \u001b[1;33m\u001b[0m\u001b[0m\n\u001b[0;32m   1193\u001b[0m \u001b[1;33m\u001b[0m\u001b[0m\n",
      "\u001b[1;32m~\\Anaconda3\\lib\\site-packages\\sklearn\\model_selection\\_search.py\u001b[0m in \u001b[0;36mevaluate_candidates\u001b[1;34m(candidate_params)\u001b[0m\n\u001b[0;32m    709\u001b[0m                                \u001b[1;32mfor\u001b[0m \u001b[0mparameters\u001b[0m\u001b[1;33m,\u001b[0m \u001b[1;33m(\u001b[0m\u001b[0mtrain\u001b[0m\u001b[1;33m,\u001b[0m \u001b[0mtest\u001b[0m\u001b[1;33m)\u001b[0m\u001b[1;33m\u001b[0m\u001b[0m\n\u001b[0;32m    710\u001b[0m                                in product(candidate_params,\n\u001b[1;32m--> 711\u001b[1;33m                                           cv.split(X, y, groups)))\n\u001b[0m\u001b[0;32m    712\u001b[0m \u001b[1;33m\u001b[0m\u001b[0m\n\u001b[0;32m    713\u001b[0m                 \u001b[0mall_candidate_params\u001b[0m\u001b[1;33m.\u001b[0m\u001b[0mextend\u001b[0m\u001b[1;33m(\u001b[0m\u001b[0mcandidate_params\u001b[0m\u001b[1;33m)\u001b[0m\u001b[1;33m\u001b[0m\u001b[0m\n",
      "\u001b[1;32m~\\Anaconda3\\lib\\site-packages\\sklearn\\externals\\joblib\\parallel.py\u001b[0m in \u001b[0;36m__call__\u001b[1;34m(self, iterable)\u001b[0m\n\u001b[0;32m    994\u001b[0m \u001b[1;33m\u001b[0m\u001b[0m\n\u001b[0;32m    995\u001b[0m             \u001b[1;32mwith\u001b[0m \u001b[0mself\u001b[0m\u001b[1;33m.\u001b[0m\u001b[0m_backend\u001b[0m\u001b[1;33m.\u001b[0m\u001b[0mretrieval_context\u001b[0m\u001b[1;33m(\u001b[0m\u001b[1;33m)\u001b[0m\u001b[1;33m:\u001b[0m\u001b[1;33m\u001b[0m\u001b[0m\n\u001b[1;32m--> 996\u001b[1;33m                 \u001b[0mself\u001b[0m\u001b[1;33m.\u001b[0m\u001b[0mretrieve\u001b[0m\u001b[1;33m(\u001b[0m\u001b[1;33m)\u001b[0m\u001b[1;33m\u001b[0m\u001b[0m\n\u001b[0m\u001b[0;32m    997\u001b[0m             \u001b[1;31m# Make sure that we get a last message telling us we are done\u001b[0m\u001b[1;33m\u001b[0m\u001b[1;33m\u001b[0m\u001b[0m\n\u001b[0;32m    998\u001b[0m             \u001b[0melapsed_time\u001b[0m \u001b[1;33m=\u001b[0m \u001b[0mtime\u001b[0m\u001b[1;33m.\u001b[0m\u001b[0mtime\u001b[0m\u001b[1;33m(\u001b[0m\u001b[1;33m)\u001b[0m \u001b[1;33m-\u001b[0m \u001b[0mself\u001b[0m\u001b[1;33m.\u001b[0m\u001b[0m_start_time\u001b[0m\u001b[1;33m\u001b[0m\u001b[0m\n",
      "\u001b[1;32m~\\Anaconda3\\lib\\site-packages\\sklearn\\externals\\joblib\\parallel.py\u001b[0m in \u001b[0;36mretrieve\u001b[1;34m(self)\u001b[0m\n\u001b[0;32m    897\u001b[0m             \u001b[1;32mtry\u001b[0m\u001b[1;33m:\u001b[0m\u001b[1;33m\u001b[0m\u001b[0m\n\u001b[0;32m    898\u001b[0m                 \u001b[1;32mif\u001b[0m \u001b[0mgetattr\u001b[0m\u001b[1;33m(\u001b[0m\u001b[0mself\u001b[0m\u001b[1;33m.\u001b[0m\u001b[0m_backend\u001b[0m\u001b[1;33m,\u001b[0m \u001b[1;34m'supports_timeout'\u001b[0m\u001b[1;33m,\u001b[0m \u001b[1;32mFalse\u001b[0m\u001b[1;33m)\u001b[0m\u001b[1;33m:\u001b[0m\u001b[1;33m\u001b[0m\u001b[0m\n\u001b[1;32m--> 899\u001b[1;33m                     \u001b[0mself\u001b[0m\u001b[1;33m.\u001b[0m\u001b[0m_output\u001b[0m\u001b[1;33m.\u001b[0m\u001b[0mextend\u001b[0m\u001b[1;33m(\u001b[0m\u001b[0mjob\u001b[0m\u001b[1;33m.\u001b[0m\u001b[0mget\u001b[0m\u001b[1;33m(\u001b[0m\u001b[0mtimeout\u001b[0m\u001b[1;33m=\u001b[0m\u001b[0mself\u001b[0m\u001b[1;33m.\u001b[0m\u001b[0mtimeout\u001b[0m\u001b[1;33m)\u001b[0m\u001b[1;33m)\u001b[0m\u001b[1;33m\u001b[0m\u001b[0m\n\u001b[0m\u001b[0;32m    900\u001b[0m                 \u001b[1;32melse\u001b[0m\u001b[1;33m:\u001b[0m\u001b[1;33m\u001b[0m\u001b[0m\n\u001b[0;32m    901\u001b[0m                     \u001b[0mself\u001b[0m\u001b[1;33m.\u001b[0m\u001b[0m_output\u001b[0m\u001b[1;33m.\u001b[0m\u001b[0mextend\u001b[0m\u001b[1;33m(\u001b[0m\u001b[0mjob\u001b[0m\u001b[1;33m.\u001b[0m\u001b[0mget\u001b[0m\u001b[1;33m(\u001b[0m\u001b[1;33m)\u001b[0m\u001b[1;33m)\u001b[0m\u001b[1;33m\u001b[0m\u001b[0m\n",
      "\u001b[1;32m~\\Anaconda3\\lib\\site-packages\\sklearn\\externals\\joblib\\_parallel_backends.py\u001b[0m in \u001b[0;36mwrap_future_result\u001b[1;34m(future, timeout)\u001b[0m\n\u001b[0;32m    515\u001b[0m         AsyncResults.get from multiprocessing.\"\"\"\n\u001b[0;32m    516\u001b[0m         \u001b[1;32mtry\u001b[0m\u001b[1;33m:\u001b[0m\u001b[1;33m\u001b[0m\u001b[0m\n\u001b[1;32m--> 517\u001b[1;33m             \u001b[1;32mreturn\u001b[0m \u001b[0mfuture\u001b[0m\u001b[1;33m.\u001b[0m\u001b[0mresult\u001b[0m\u001b[1;33m(\u001b[0m\u001b[0mtimeout\u001b[0m\u001b[1;33m=\u001b[0m\u001b[0mtimeout\u001b[0m\u001b[1;33m)\u001b[0m\u001b[1;33m\u001b[0m\u001b[0m\n\u001b[0m\u001b[0;32m    518\u001b[0m         \u001b[1;32mexcept\u001b[0m \u001b[0mLokyTimeoutError\u001b[0m\u001b[1;33m:\u001b[0m\u001b[1;33m\u001b[0m\u001b[0m\n\u001b[0;32m    519\u001b[0m             \u001b[1;32mraise\u001b[0m \u001b[0mTimeoutError\u001b[0m\u001b[1;33m(\u001b[0m\u001b[1;33m)\u001b[0m\u001b[1;33m\u001b[0m\u001b[0m\n",
      "\u001b[1;32m~\\Anaconda3\\lib\\concurrent\\futures\\_base.py\u001b[0m in \u001b[0;36mresult\u001b[1;34m(self, timeout)\u001b[0m\n\u001b[0;32m    398\u001b[0m                 \u001b[1;32mreturn\u001b[0m \u001b[0mself\u001b[0m\u001b[1;33m.\u001b[0m\u001b[0m__get_result\u001b[0m\u001b[1;33m(\u001b[0m\u001b[1;33m)\u001b[0m\u001b[1;33m\u001b[0m\u001b[0m\n\u001b[0;32m    399\u001b[0m \u001b[1;33m\u001b[0m\u001b[0m\n\u001b[1;32m--> 400\u001b[1;33m             \u001b[0mself\u001b[0m\u001b[1;33m.\u001b[0m\u001b[0m_condition\u001b[0m\u001b[1;33m.\u001b[0m\u001b[0mwait\u001b[0m\u001b[1;33m(\u001b[0m\u001b[0mtimeout\u001b[0m\u001b[1;33m)\u001b[0m\u001b[1;33m\u001b[0m\u001b[0m\n\u001b[0m\u001b[0;32m    401\u001b[0m \u001b[1;33m\u001b[0m\u001b[0m\n\u001b[0;32m    402\u001b[0m             \u001b[1;32mif\u001b[0m \u001b[0mself\u001b[0m\u001b[1;33m.\u001b[0m\u001b[0m_state\u001b[0m \u001b[1;32min\u001b[0m \u001b[1;33m[\u001b[0m\u001b[0mCANCELLED\u001b[0m\u001b[1;33m,\u001b[0m \u001b[0mCANCELLED_AND_NOTIFIED\u001b[0m\u001b[1;33m]\u001b[0m\u001b[1;33m:\u001b[0m\u001b[1;33m\u001b[0m\u001b[0m\n",
      "\u001b[1;32m~\\Anaconda3\\lib\\threading.py\u001b[0m in \u001b[0;36mwait\u001b[1;34m(self, timeout)\u001b[0m\n\u001b[0;32m    293\u001b[0m         \u001b[1;32mtry\u001b[0m\u001b[1;33m:\u001b[0m    \u001b[1;31m# restore state no matter what (e.g., KeyboardInterrupt)\u001b[0m\u001b[1;33m\u001b[0m\u001b[0m\n\u001b[0;32m    294\u001b[0m             \u001b[1;32mif\u001b[0m \u001b[0mtimeout\u001b[0m \u001b[1;32mis\u001b[0m \u001b[1;32mNone\u001b[0m\u001b[1;33m:\u001b[0m\u001b[1;33m\u001b[0m\u001b[0m\n\u001b[1;32m--> 295\u001b[1;33m                 \u001b[0mwaiter\u001b[0m\u001b[1;33m.\u001b[0m\u001b[0macquire\u001b[0m\u001b[1;33m(\u001b[0m\u001b[1;33m)\u001b[0m\u001b[1;33m\u001b[0m\u001b[0m\n\u001b[0m\u001b[0;32m    296\u001b[0m                 \u001b[0mgotit\u001b[0m \u001b[1;33m=\u001b[0m \u001b[1;32mTrue\u001b[0m\u001b[1;33m\u001b[0m\u001b[0m\n\u001b[0;32m    297\u001b[0m             \u001b[1;32melse\u001b[0m\u001b[1;33m:\u001b[0m\u001b[1;33m\u001b[0m\u001b[0m\n",
      "\u001b[1;31mKeyboardInterrupt\u001b[0m: "
     ]
    }
   ],
   "source": [
    "lightGBM = LGBMRegressor(n_estimators=100)\n",
    "grid_cv = GridSearchCV(lightGBM, param_grid=grid_param, cv=10, n_jobs = -1)\n",
    "grid_cv.fit(trainX, trainY)"
   ]
  },
  {
   "cell_type": "code",
   "execution_count": null,
   "metadata": {
    "collapsed": true
   },
   "outputs": [],
   "source": []
  },
  {
   "cell_type": "code",
   "execution_count": null,
   "metadata": {
    "collapsed": true
   },
   "outputs": [],
   "source": []
  },
  {
   "cell_type": "code",
   "execution_count": 32,
   "metadata": {
    "scrolled": true
   },
   "outputs": [
    {
     "name": "stderr",
     "output_type": "stream",
     "text": [
      "C:\\Users\\HP\\Anaconda3\\lib\\site-packages\\lightgbm\\basic.py:1036: UserWarning: Using categorical_feature in Dataset.\n",
      "  warnings.warn('Using categorical_feature in Dataset.')\n"
     ]
    }
   ],
   "source": [
    "lightGBM = lgb.train(param, d_train, 100)\n",
    "y_pred = lightGBM.predict(valX)"
   ]
  },
  {
   "cell_type": "code",
   "execution_count": 33,
   "metadata": {},
   "outputs": [
    {
     "name": "stdout",
     "output_type": "stream",
     "text": [
      "3.8924295481627302\n",
      "0.011795718520287934\n"
     ]
    }
   ],
   "source": [
    "rmse = sqrt(mean_squared_error(valY, y_pred))\n",
    "print(rmse)\n",
    "r_squared = r2_score(valY, y_pred)\n",
    "print(r_squared)"
   ]
  },
  {
   "cell_type": "code",
   "execution_count": null,
   "metadata": {
    "collapsed": true
   },
   "outputs": [],
   "source": [
    "rmse = 3.8924295481627302\n",
    "r_square = 0.011795718520287934"
   ]
  },
  {
   "cell_type": "code",
   "execution_count": 134,
   "metadata": {
    "collapsed": true
   },
   "outputs": [],
   "source": [
    "values = lightGBM.feature_importance()"
   ]
  },
  {
   "cell_type": "code",
   "execution_count": 135,
   "metadata": {},
   "outputs": [
    {
     "data": {
      "text/plain": [
       "array([  0,  20,  19,  10,  70,   2,   6,   3,  15,  19,  20,  43,  18,\n",
       "        25,  36,  64,  59,  16,  41, 224,   0,   1,   1,   5,  16,   0,\n",
       "         3,  11,  14,  37,   0,   0,   1,   5,  18,   1,   5,  13,  11,\n",
       "        27,   0,   0,   1,   0,   6,   0,  14,   1,   3,  25,  21,  27,\n",
       "        43,  85,  32,  29,  21,   5,   7,   3,   6,  25,  17,  11,   7,\n",
       "         6,   1,  15,  23,   3,  16,  19,  53,  24,  39,  34,  37,   8,\n",
       "        13,  13,   4,  12, 120,  68,  95,  86,  39,  31,  31,  31,  47,\n",
       "        62,   5, 162,   6,  19,  35,  10,  44,  27,  13,  42,  25,  15,\n",
       "        24,  52,  38,  43,  10,  35,  51,  22,  43,  24,  26,  31])"
      ]
     },
     "execution_count": 135,
     "metadata": {},
     "output_type": "execute_result"
    }
   ],
   "source": [
    "values"
   ]
  },
  {
   "cell_type": "code",
   "execution_count": 128,
   "metadata": {
    "collapsed": true
   },
   "outputs": [],
   "source": [
    "col_names = trainX.columns"
   ]
  },
  {
   "cell_type": "code",
   "execution_count": 152,
   "metadata": {
    "scrolled": true
   },
   "outputs": [
    {
     "data": {
      "text/html": [
       "<div>\n",
       "<style>\n",
       "    .dataframe thead tr:only-child th {\n",
       "        text-align: right;\n",
       "    }\n",
       "\n",
       "    .dataframe thead th {\n",
       "        text-align: left;\n",
       "    }\n",
       "\n",
       "    .dataframe tbody tr th {\n",
       "        vertical-align: top;\n",
       "    }\n",
       "</style>\n",
       "<table border=\"1\" class=\"dataframe\">\n",
       "  <thead>\n",
       "    <tr style=\"text-align: right;\">\n",
       "      <th></th>\n",
       "      <th>columns</th>\n",
       "      <th>imp_features</th>\n",
       "    </tr>\n",
       "  </thead>\n",
       "  <tbody>\n",
       "    <tr>\n",
       "      <th>19</th>\n",
       "      <td>tru0-02</td>\n",
       "      <td>224</td>\n",
       "    </tr>\n",
       "    <tr>\n",
       "      <th>93</th>\n",
       "      <td>lag_diff_intercept</td>\n",
       "      <td>162</td>\n",
       "    </tr>\n",
       "    <tr>\n",
       "      <th>82</th>\n",
       "      <td>cat1_trend_coef</td>\n",
       "      <td>120</td>\n",
       "    </tr>\n",
       "    <tr>\n",
       "      <th>84</th>\n",
       "      <td>cat2_trend_coef</td>\n",
       "      <td>95</td>\n",
       "    </tr>\n",
       "    <tr>\n",
       "      <th>85</th>\n",
       "      <td>cat2_trend_intercept</td>\n",
       "      <td>86</td>\n",
       "    </tr>\n",
       "    <tr>\n",
       "      <th>53</th>\n",
       "      <td>Y</td>\n",
       "      <td>85</td>\n",
       "    </tr>\n",
       "    <tr>\n",
       "      <th>4</th>\n",
       "      <td>mv0-1</td>\n",
       "      <td>70</td>\n",
       "    </tr>\n",
       "    <tr>\n",
       "      <th>83</th>\n",
       "      <td>cat1_trend_intercept</td>\n",
       "      <td>68</td>\n",
       "    </tr>\n",
       "    <tr>\n",
       "      <th>15</th>\n",
       "      <td>trp02-05</td>\n",
       "      <td>64</td>\n",
       "    </tr>\n",
       "    <tr>\n",
       "      <th>91</th>\n",
       "      <td>installments_trend_intercept</td>\n",
       "      <td>62</td>\n",
       "    </tr>\n",
       "    <tr>\n",
       "      <th>16</th>\n",
       "      <td>trp05-1</td>\n",
       "      <td>59</td>\n",
       "    </tr>\n",
       "    <tr>\n",
       "      <th>72</th>\n",
       "      <td>mll0-30</td>\n",
       "      <td>53</td>\n",
       "    </tr>\n",
       "    <tr>\n",
       "      <th>105</th>\n",
       "      <td>merchant_id_intercept_new</td>\n",
       "      <td>52</td>\n",
       "    </tr>\n",
       "    <tr>\n",
       "      <th>110</th>\n",
       "      <td>subsector_id_coef_new</td>\n",
       "      <td>51</td>\n",
       "    </tr>\n",
       "    <tr>\n",
       "      <th>90</th>\n",
       "      <td>installments_trend_coef</td>\n",
       "      <td>47</td>\n",
       "    </tr>\n",
       "    <tr>\n",
       "      <th>98</th>\n",
       "      <td>merchant_category_id_intercept_inter</td>\n",
       "      <td>44</td>\n",
       "    </tr>\n",
       "    <tr>\n",
       "      <th>107</th>\n",
       "      <td>purchase_intercept</td>\n",
       "      <td>43</td>\n",
       "    </tr>\n",
       "    <tr>\n",
       "      <th>52</th>\n",
       "      <td>N</td>\n",
       "      <td>43</td>\n",
       "    </tr>\n",
       "    <tr>\n",
       "      <th>112</th>\n",
       "      <td>subsector_id_intercept_inter</td>\n",
       "      <td>43</td>\n",
       "    </tr>\n",
       "    <tr>\n",
       "      <th>11</th>\n",
       "      <td>tr05-1</td>\n",
       "      <td>43</td>\n",
       "    </tr>\n",
       "    <tr>\n",
       "      <th>101</th>\n",
       "      <td>merchant_id_coef_inter</td>\n",
       "      <td>42</td>\n",
       "    </tr>\n",
       "    <tr>\n",
       "      <th>18</th>\n",
       "      <td>trp3andabove</td>\n",
       "      <td>41</td>\n",
       "    </tr>\n",
       "    <tr>\n",
       "      <th>74</th>\n",
       "      <td>mll61-120</td>\n",
       "      <td>39</td>\n",
       "    </tr>\n",
       "    <tr>\n",
       "      <th>86</th>\n",
       "      <td>cat3_trend_coef</td>\n",
       "      <td>39</td>\n",
       "    </tr>\n",
       "    <tr>\n",
       "      <th>106</th>\n",
       "      <td>purchase_coef</td>\n",
       "      <td>38</td>\n",
       "    </tr>\n",
       "    <tr>\n",
       "      <th>76</th>\n",
       "      <td>mll180-above</td>\n",
       "      <td>37</td>\n",
       "    </tr>\n",
       "    <tr>\n",
       "      <th>29</th>\n",
       "      <td>tra0-02</td>\n",
       "      <td>37</td>\n",
       "    </tr>\n",
       "    <tr>\n",
       "      <th>14</th>\n",
       "      <td>trp0-02</td>\n",
       "      <td>36</td>\n",
       "    </tr>\n",
       "    <tr>\n",
       "      <th>109</th>\n",
       "      <td>subsector_id_coef_inter</td>\n",
       "      <td>35</td>\n",
       "    </tr>\n",
       "    <tr>\n",
       "      <th>96</th>\n",
       "      <td>merchant_category_id_coef_new</td>\n",
       "      <td>35</td>\n",
       "    </tr>\n",
       "    <tr>\n",
       "      <th>...</th>\n",
       "      <td>...</td>\n",
       "      <td>...</td>\n",
       "    </tr>\n",
       "    <tr>\n",
       "      <th>60</th>\n",
       "      <td>C5</td>\n",
       "      <td>6</td>\n",
       "    </tr>\n",
       "    <tr>\n",
       "      <th>6</th>\n",
       "      <td>mv2-3</td>\n",
       "      <td>6</td>\n",
       "    </tr>\n",
       "    <tr>\n",
       "      <th>33</th>\n",
       "      <td>tra3andabove</td>\n",
       "      <td>5</td>\n",
       "    </tr>\n",
       "    <tr>\n",
       "      <th>36</th>\n",
       "      <td>trap05-1</td>\n",
       "      <td>5</td>\n",
       "    </tr>\n",
       "    <tr>\n",
       "      <th>57</th>\n",
       "      <td>C2</td>\n",
       "      <td>5</td>\n",
       "    </tr>\n",
       "    <tr>\n",
       "      <th>23</th>\n",
       "      <td>tru3andabove</td>\n",
       "      <td>5</td>\n",
       "    </tr>\n",
       "    <tr>\n",
       "      <th>92</th>\n",
       "      <td>lag_diff_coef</td>\n",
       "      <td>5</td>\n",
       "    </tr>\n",
       "    <tr>\n",
       "      <th>80</th>\n",
       "      <td>mlpl120-180</td>\n",
       "      <td>4</td>\n",
       "    </tr>\n",
       "    <tr>\n",
       "      <th>48</th>\n",
       "      <td>trip3andabove_y</td>\n",
       "      <td>3</td>\n",
       "    </tr>\n",
       "    <tr>\n",
       "      <th>7</th>\n",
       "      <td>mv3-4</td>\n",
       "      <td>3</td>\n",
       "    </tr>\n",
       "    <tr>\n",
       "      <th>69</th>\n",
       "      <td>AP</td>\n",
       "      <td>3</td>\n",
       "    </tr>\n",
       "    <tr>\n",
       "      <th>59</th>\n",
       "      <td>C4</td>\n",
       "      <td>3</td>\n",
       "    </tr>\n",
       "    <tr>\n",
       "      <th>26</th>\n",
       "      <td>trup05-1</td>\n",
       "      <td>3</td>\n",
       "    </tr>\n",
       "    <tr>\n",
       "      <th>5</th>\n",
       "      <td>mv1-2</td>\n",
       "      <td>2</td>\n",
       "    </tr>\n",
       "    <tr>\n",
       "      <th>47</th>\n",
       "      <td>trip1-3</td>\n",
       "      <td>1</td>\n",
       "    </tr>\n",
       "    <tr>\n",
       "      <th>42</th>\n",
       "      <td>tri1-3</td>\n",
       "      <td>1</td>\n",
       "    </tr>\n",
       "    <tr>\n",
       "      <th>35</th>\n",
       "      <td>trap02-05</td>\n",
       "      <td>1</td>\n",
       "    </tr>\n",
       "    <tr>\n",
       "      <th>66</th>\n",
       "      <td>A</td>\n",
       "      <td>1</td>\n",
       "    </tr>\n",
       "    <tr>\n",
       "      <th>32</th>\n",
       "      <td>tra1-3</td>\n",
       "      <td>1</td>\n",
       "    </tr>\n",
       "    <tr>\n",
       "      <th>21</th>\n",
       "      <td>tru05-1</td>\n",
       "      <td>1</td>\n",
       "    </tr>\n",
       "    <tr>\n",
       "      <th>22</th>\n",
       "      <td>tru1-3</td>\n",
       "      <td>1</td>\n",
       "    </tr>\n",
       "    <tr>\n",
       "      <th>20</th>\n",
       "      <td>tru02-05</td>\n",
       "      <td>0</td>\n",
       "    </tr>\n",
       "    <tr>\n",
       "      <th>40</th>\n",
       "      <td>tri02-05</td>\n",
       "      <td>0</td>\n",
       "    </tr>\n",
       "    <tr>\n",
       "      <th>25</th>\n",
       "      <td>trup02-05</td>\n",
       "      <td>0</td>\n",
       "    </tr>\n",
       "    <tr>\n",
       "      <th>30</th>\n",
       "      <td>tra02-05</td>\n",
       "      <td>0</td>\n",
       "    </tr>\n",
       "    <tr>\n",
       "      <th>31</th>\n",
       "      <td>tra05-1</td>\n",
       "      <td>0</td>\n",
       "    </tr>\n",
       "    <tr>\n",
       "      <th>41</th>\n",
       "      <td>tri05-1</td>\n",
       "      <td>0</td>\n",
       "    </tr>\n",
       "    <tr>\n",
       "      <th>43</th>\n",
       "      <td>trip3andabove_x</td>\n",
       "      <td>0</td>\n",
       "    </tr>\n",
       "    <tr>\n",
       "      <th>45</th>\n",
       "      <td>trip02-05</td>\n",
       "      <td>0</td>\n",
       "    </tr>\n",
       "    <tr>\n",
       "      <th>0</th>\n",
       "      <td>card_id</td>\n",
       "      <td>0</td>\n",
       "    </tr>\n",
       "  </tbody>\n",
       "</table>\n",
       "<p>116 rows × 2 columns</p>\n",
       "</div>"
      ],
      "text/plain": [
       "                                  columns  imp_features\n",
       "19                                tru0-02           224\n",
       "93                     lag_diff_intercept           162\n",
       "82                        cat1_trend_coef           120\n",
       "84                        cat2_trend_coef            95\n",
       "85                   cat2_trend_intercept            86\n",
       "53                                      Y            85\n",
       "4                                   mv0-1            70\n",
       "83                   cat1_trend_intercept            68\n",
       "15                               trp02-05            64\n",
       "91           installments_trend_intercept            62\n",
       "16                                trp05-1            59\n",
       "72                                mll0-30            53\n",
       "105             merchant_id_intercept_new            52\n",
       "110                 subsector_id_coef_new            51\n",
       "90                installments_trend_coef            47\n",
       "98   merchant_category_id_intercept_inter            44\n",
       "107                    purchase_intercept            43\n",
       "52                                      N            43\n",
       "112          subsector_id_intercept_inter            43\n",
       "11                                 tr05-1            43\n",
       "101                merchant_id_coef_inter            42\n",
       "18                           trp3andabove            41\n",
       "74                              mll61-120            39\n",
       "86                        cat3_trend_coef            39\n",
       "106                         purchase_coef            38\n",
       "76                           mll180-above            37\n",
       "29                                tra0-02            37\n",
       "14                                trp0-02            36\n",
       "109               subsector_id_coef_inter            35\n",
       "96          merchant_category_id_coef_new            35\n",
       "..                                    ...           ...\n",
       "60                                     C5             6\n",
       "6                                   mv2-3             6\n",
       "33                           tra3andabove             5\n",
       "36                               trap05-1             5\n",
       "57                                     C2             5\n",
       "23                           tru3andabove             5\n",
       "92                          lag_diff_coef             5\n",
       "80                            mlpl120-180             4\n",
       "48                        trip3andabove_y             3\n",
       "7                                   mv3-4             3\n",
       "69                                     AP             3\n",
       "59                                     C4             3\n",
       "26                               trup05-1             3\n",
       "5                                   mv1-2             2\n",
       "47                                trip1-3             1\n",
       "42                                 tri1-3             1\n",
       "35                              trap02-05             1\n",
       "66                                      A             1\n",
       "32                                 tra1-3             1\n",
       "21                                tru05-1             1\n",
       "22                                 tru1-3             1\n",
       "20                               tru02-05             0\n",
       "40                               tri02-05             0\n",
       "25                              trup02-05             0\n",
       "30                               tra02-05             0\n",
       "31                                tra05-1             0\n",
       "41                                tri05-1             0\n",
       "43                        trip3andabove_x             0\n",
       "45                              trip02-05             0\n",
       "0                                 card_id             0\n",
       "\n",
       "[116 rows x 2 columns]"
      ]
     },
     "execution_count": 152,
     "metadata": {},
     "output_type": "execute_result"
    }
   ],
   "source": [
    "feature_imp = pd.DataFrame({'columns':col_names, 'imp_features':values})\n",
    "feature_imp.sort_values(by='imp_features', ascending=False)"
   ]
  },
  {
   "cell_type": "code",
   "execution_count": 150,
   "metadata": {},
   "outputs": [
    {
     "data": {
      "text/plain": [
       "<matplotlib.axes._subplots.AxesSubplot at 0x262960c3c18>"
      ]
     },
     "execution_count": 150,
     "metadata": {},
     "output_type": "execute_result"
    },
    {
     "data": {
      "image/png": "[encoded data removed]",
      "text/plain": [
       "<Figure size 432x288 with 1 Axes>"
      ]
     },
     "metadata": {},
     "output_type": "display_data"
    }
   ],
   "source": [
    "sns.barplot(x='imp_features', y = 'columns',data = feature_imp)"
   ]
  },
  {
   "cell_type": "code",
   "execution_count": null,
   "metadata": {
    "collapsed": true
   },
   "outputs": [],
   "source": []
  },
  {
   "cell_type": "code",
   "execution_count": null,
   "metadata": {
    "collapsed": true
   },
   "outputs": [],
   "source": []
  },
  {
   "cell_type": "code",
   "execution_count": null,
   "metadata": {
    "collapsed": true
   },
   "outputs": [],
   "source": []
  }
 ],
 "metadata": {
  "kernelspec": {
   "display_name": "Python 3",
   "language": "python",
   "name": "python3"
  },
  "language_info": {
   "codemirror_mode": {
    "name": "ipython",
    "version": 3
   },
   "file_extension": ".py",
   "mimetype": "text/x-python",
   "name": "python",
   "nbconvert_exporter": "python",
   "pygments_lexer": "ipython3",
   "version": "3.6.2"
  }
 },
 "nbformat": 4,
 "nbformat_minor": 2
}
