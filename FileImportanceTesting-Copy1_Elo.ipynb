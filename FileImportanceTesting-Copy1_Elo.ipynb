{
 "cells": [
  {
   "cell_type": "code",
   "execution_count": 1,
   "metadata": {
    "collapsed": true
   },
   "outputs": [],
   "source": [
    "import glob\n",
    "import pickle\n",
    "from sklearn.model_selection import StratifiedKFold"
   ]
  },
  {
   "cell_type": "code",
   "execution_count": 2,
   "metadata": {},
   "outputs": [
    {
     "data": {
      "text/plain": [
       "target_bin\n",
       "0    191093\n",
       "2      8200\n",
       "3       363\n",
       "4      2261\n",
       "dtype: int64"
      ]
     },
     "execution_count": 2,
     "metadata": {},
     "output_type": "execute_result"
    }
   ],
   "source": [
    "import pandas as pd\n",
    "import numpy as np\n",
    "import lightgbm as lgb\n",
    "from sklearn.model_selection import train_test_split\n",
    "train_data = pd.read_csv(\"../data/train.csv\")\n",
    "# Binning the numeric variable to different categories\n",
    "target_std=train_data['target'].std()\n",
    "max_target=train_data['target'].max()+1\n",
    "min_target=train_data['target'].min()-1\n",
    "bins=[min_target,-3*target_std,-2*target_std,-1*target_std,target_std*1,target_std*2,target_std*3,max_target]\n",
    "labels=[-4,-3,-2,0,2,3,4]\n",
    "train_data['target_bin']=pd.cut(train_data['target'],bins=bins,labels=labels).astype(int)\n",
    "train_data['target_bin']=train_data['target_bin'].abs()\n",
    "train_data.groupby(['target_bin']).size()"
   ]
  },
  {
   "cell_type": "code",
   "execution_count": 11,
   "metadata": {},
   "outputs": [
    {
     "data": {
      "text/plain": [
       "3.850499995486051"
      ]
     },
     "execution_count": 11,
     "metadata": {},
     "output_type": "execute_result"
    }
   ],
   "source": [
    "target_std=train_data['target'].std()\n",
    "target_std"
   ]
  },
  {
   "cell_type": "code",
   "execution_count": 12,
   "metadata": {},
   "outputs": [
    {
     "data": {
      "text/plain": [
       "[-34.219280949999998,\n",
       " -11.551499986458154,\n",
       " -7.700999990972102,\n",
       " -3.850499995486051,\n",
       " 3.850499995486051,\n",
       " 7.700999990972102,\n",
       " 11.551499986458154,\n",
       " 18.9650684]"
      ]
     },
     "execution_count": 12,
     "metadata": {},
     "output_type": "execute_result"
    }
   ],
   "source": [
    "[min_target,-3*target_std,-2*target_std,-1*target_std,target_std*1,target_std*2,target_std*3,max_target]"
   ]
  },
  {
   "cell_type": "code",
   "execution_count": null,
   "metadata": {
    "collapsed": true
   },
   "outputs": [],
   "source": []
  },
  {
   "cell_type": "code",
   "execution_count": null,
   "metadata": {
    "collapsed": true
   },
   "outputs": [],
   "source": [
    "#     param = {'num_leaves': 300,\n",
    "#              'min_data_in_leaf': 100,\n",
    "#              'objective': 'regression',\n",
    "#              'max_depth': 15,\n",
    "#              'learning_rate': 0.01,\n",
    "#              \"boosting\": \"gbdt\",\n",
    "#              \"feature_fraction\": 0.9,\n",
    "#              \"bagging_freq\": 1,\n",
    "#              \"bagging_fraction\": 0.8,\n",
    "#              \"bagging_seed\": 11,\n",
    "#              \"metric\": 'rmse',\n",
    "#              # \"lambda_l1\": 0.2634,\n",
    "#              \"random_state\": 133,\n",
    "#              \"verbosity\": -1}\n",
    "\n",
    "\n",
    "# {\n",
    "# 'filepath': '../Fresh\\\\active_first_diff.csv',\n",
    "#  'best_iteration0': 484,\n",
    "#  'best_score0': 3.6632739775611216,\n",
    "#  'best_iteration1': 330,\n",
    "#  'best_score1': 3.6985657675999226,\n",
    "#  'best_iteration2': 357,\n",
    "#  'best_score2': 3.6788080841478394,\n",
    "#  'best_iteration3': 552,\n",
    "#  'best_score3': 3.651419743890834,\n",
    "#  'best_iteration4': 517,\n",
    "#  'best_score4': 3.6491765269973442\n",
    "# }\n"
   ]
  },
  {
   "cell_type": "code",
   "execution_count": 8,
   "metadata": {
    "collapsed": true
   },
   "outputs": [],
   "source": [
    "def run_lgb(train_X, train_y, val_X, val_y):\n",
    "    param = {'num_leaves': 300,\n",
    "             'min_data_in_leaf': 100,\n",
    "             'objective': 'regression',\n",
    "             'max_depth': 15,\n",
    "             'learning_rate': 0.01,\n",
    "#              \"boosting\": \"gbdt\",\n",
    "             \"boosting\": \"rf\",\n",
    "             \"feature_fraction\": 0.9,\n",
    "             \"bagging_freq\": 1,\n",
    "             \"bagging_fraction\": 0.8,\n",
    "             \"bagging_seed\": 11,\n",
    "             \"metric\": 'rmse',\n",
    "             # \"lambda_l1\": 0.2634,\n",
    "             \"random_state\": 133,\n",
    "             \"verbosity\": -1}\n",
    "\n",
    "    lgtrain = lgb.Dataset(train_X, label=train_y)\n",
    "    lgval = lgb.Dataset(val_X, label=val_y)\n",
    "    evals_result = {}\n",
    "    model = lgb.train(param, lgtrain, 2000, valid_sets=[lgval], early_stopping_rounds=100, verbose_eval=100,\n",
    "                      evals_result=evals_result)\n",
    "    return model, evals_result"
   ]
  },
  {
   "cell_type": "code",
   "execution_count": 4,
   "metadata": {
    "collapsed": true
   },
   "outputs": [],
   "source": [
    "def model_run(filepath,train_data1):\n",
    "    results={}\n",
    "    results['filepath']=filepath[0]\n",
    "    for file in filepath:\n",
    "        data_features = pd.read_csv(file)\n",
    "        train_data1=pd.merge(train_data1,data_features,how='left',on='card_id')\n",
    "    output_feature=['target']\n",
    "    input_features=[x for x in train_data1.columns if x not in ['first_active_month', 'card_id','target','target_bin']]\n",
    "    train_X = train_data1[input_features]\n",
    "    numerics = ['int16', 'int32', 'int64', 'float16', 'float32', 'float64']\n",
    "    train_X = train_X.select_dtypes(include=numerics)\n",
    "    train_y = train_data1[output_feature]\n",
    "    kf = StratifiedKFold(n_splits=5, random_state=2018, shuffle=True)\n",
    "    counter=0\n",
    "    for dev_index, val_index in kf.split(train_X,train_data1['target_bin']):\n",
    "        \n",
    "        dev_X, val_X = train_X.loc[dev_index, :], train_X.loc[val_index, :]\n",
    "        dev_y, val_y = train_y.loc[dev_index], train_y.loc[val_index]\n",
    "        model, evals_result = run_lgb(dev_X, dev_y, val_X, val_y)\n",
    "        results['best_iteration'+str(counter)]=model.best_iteration\n",
    "        results['best_score'+str(counter)]=model.best_score['valid_0']['rmse']\n",
    "        counter+=1\n",
    "    return results"
   ]
  },
  {
   "cell_type": "code",
   "execution_count": 9,
   "metadata": {},
   "outputs": [
    {
     "name": "stdout",
     "output_type": "stream",
     "text": [
      "['../Fresh\\\\active_first_diff.csv', '../Fresh\\\\card_new_mercid.csv', '../Fresh\\\\card_summary_future.csv', '../Fresh\\\\card_summary_history.csv', '../Fresh\\\\category1_allN.csv', '../Fresh\\\\category1_allY.csv', '../Fresh\\\\category2_all0.0.csv', '../Fresh\\\\category2_all1.0.csv', '../Fresh\\\\category2_all2.0.csv', '../Fresh\\\\category2_all3.0.csv', '../Fresh\\\\category2_all4.0.csv', '../Fresh\\\\category2_all5.0.csv', '../Fresh\\\\category3_allA.csv', '../Fresh\\\\category3_allB.csv', '../Fresh\\\\category3_allC.csv', '../Fresh\\\\diffhistfuture.csv', '../Fresh\\\\future_length.csv', '../Fresh\\\\hist_length.csv', '../Fresh\\\\merchant_joint_analysis.csv', '../Fresh\\\\most_recent_purchases_range_all0.csv', '../Fresh\\\\most_recent_purchases_range_allA.csv', '../Fresh\\\\most_recent_purchases_range_allB.csv', '../Fresh\\\\most_recent_purchases_range_allC.csv', '../Fresh\\\\most_recent_purchases_range_allD.csv', '../Fresh\\\\most_recent_purchases_range_allE.csv', '../Fresh\\\\most_recent_sales_range_allA.csv', '../Fresh\\\\most_recent_sales_range_allB.csv', '../Fresh\\\\most_recent_sales_range_allC.csv', '../Fresh\\\\most_recent_sales_range_allD.csv', '../Fresh\\\\most_recent_sales_range_allE.csv', '../Fresh\\\\quarter_purchase_count.csv', '../Fresh\\\\quarter_purchase_sum.csv', '../Fresh\\\\ref_first_future.csv', '../Fresh\\\\ref_last_hist.csv', '../Fresh\\\\trend.csv']\n",
      "Training until validation scores don't improve for 100 rounds.\n",
      "[100]\tvalid_0's rmse: 3.68256\n",
      "Early stopping, best iteration is:\n",
      "[60]\tvalid_0's rmse: 3.68107\n",
      "Training until validation scores don't improve for 100 rounds.\n",
      "[100]\tvalid_0's rmse: 3.70627\n",
      "Early stopping, best iteration is:\n",
      "[41]\tvalid_0's rmse: 3.70473\n",
      "Training until validation scores don't improve for 100 rounds.\n",
      "[100]\tvalid_0's rmse: 3.68554\n",
      "[200]\tvalid_0's rmse: 3.68586\n",
      "Early stopping, best iteration is:\n",
      "[121]\tvalid_0's rmse: 3.68534\n",
      "Training until validation scores don't improve for 100 rounds.\n",
      "[100]\tvalid_0's rmse: 3.66591\n",
      "Early stopping, best iteration is:\n",
      "[56]\tvalid_0's rmse: 3.66517\n",
      "Training until validation scores don't improve for 100 rounds.\n",
      "[100]\tvalid_0's rmse: 3.66532\n",
      "Early stopping, best iteration is:\n",
      "[22]\tvalid_0's rmse: 3.66467\n"
     ]
    }
   ],
   "source": [
    "filelist14=glob.glob(\"../Fresh/*.csv\")\n",
    "pickle.dump( filelist14, open( \"filelist14.p\", \"wb\" ) )\n",
    "print(filelist14)\n",
    "results=model_run(filelist14,train_data)\n"
   ]
  },
  {
   "cell_type": "code",
   "execution_count": 7,
   "metadata": {},
   "outputs": [
    {
     "data": {
      "text/plain": [
       "{'filepath': '../Fresh\\\\active_first_diff.csv',\n",
       " 'best_iteration0': 484,\n",
       " 'best_score0': 3.6632739775611216,\n",
       " 'best_iteration1': 330,\n",
       " 'best_score1': 3.6985657675999226,\n",
       " 'best_iteration2': 357,\n",
       " 'best_score2': 3.6788080841478394,\n",
       " 'best_iteration3': 552,\n",
       " 'best_score3': 3.651419743890834,\n",
       " 'best_iteration4': 517,\n",
       " 'best_score4': 3.6491765269973442}"
      ]
     },
     "execution_count": 7,
     "metadata": {},
     "output_type": "execute_result"
    }
   ],
   "source": [
    "results"
   ]
  },
  {
   "cell_type": "code",
   "execution_count": null,
   "metadata": {
    "collapsed": true
   },
   "outputs": [],
   "source": []
  }
 ],
 "metadata": {
  "kernelspec": {
   "display_name": "Python 3",
   "language": "python",
   "name": "python3"
  },
  "language_info": {
   "codemirror_mode": {
    "name": "ipython",
    "version": 3
   },
   "file_extension": ".py",
   "mimetype": "text/x-python",
   "name": "python",
   "nbconvert_exporter": "python",
   "pygments_lexer": "ipython3",
   "version": "3.6.2"
  }
 },
 "nbformat": 4,
 "nbformat_minor": 2
}
