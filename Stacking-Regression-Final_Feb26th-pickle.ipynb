{
 "cells": [
  {
   "cell_type": "code",
   "execution_count": 1,
   "metadata": {
    "collapsed": true
   },
   "outputs": [],
   "source": [
    "# Load in our libraries\n",
    "import pandas as pd\n",
    "import numpy as np\n",
    "import re\n",
    "import sklearn\n",
    "import xgboost as xgb\n",
    "import lightgbm as lgb\n",
    "# Going to use these 5 base models for the stacking\n",
    "from sklearn.ensemble import (RandomForestRegressor,  \n",
    "                               ExtraTreesRegressor)\n",
    "from sklearn.svm import SVC\n",
    "from sklearn.model_selection import StratifiedKFold\n",
    "from sklearn import metrics\n",
    "from sklearn.metrics import mean_squared_error"
   ]
  },
  {
   "cell_type": "code",
   "execution_count": 2,
   "metadata": {},
   "outputs": [
    {
     "name": "stdout",
     "output_type": "stream",
     "text": [
      "Wall time: 14.5 s\n"
     ]
    }
   ],
   "source": [
    "%%time\n",
    "df_train = pd.read_csv(\"C:/Kaggle competetion datasets/Elo Merchent Category Recommendation/Elo Feb 18th/ultimate2/ultimate2/train_test/train_features.csv\")\n",
    "df_test = pd.read_csv(\"C:/Kaggle competetion datasets/Elo Merchent Category Recommendation/Elo Feb 18th/ultimate2/ultimate2/train_test/test_features.csv\")"
   ]
  },
  {
   "cell_type": "code",
   "execution_count": 9,
   "metadata": {},
   "outputs": [
    {
     "data": {
      "text/plain": [
       "(201917, 86)"
      ]
     },
     "execution_count": 9,
     "metadata": {},
     "output_type": "execute_result"
    }
   ],
   "source": [
    "df_train.shape"
   ]
  },
  {
   "cell_type": "code",
   "execution_count": 3,
   "metadata": {
    "collapsed": true
   },
   "outputs": [],
   "source": [
    "def feature_concat(train_data1,filepath):\n",
    "    for file in filepath:\n",
    "        data_features = pd.read_csv(file)\n",
    "        data_features = data_features.drop_duplicates()\n",
    "        train_data1=pd.merge(train_data1,data_features,how='left',on='card_id')\n",
    "#         print(file)\n",
    "#         print(train_data1.shape)\n",
    "    return(train_data1)"
   ]
  },
  {
   "cell_type": "code",
   "execution_count": 4,
   "metadata": {
    "collapsed": true
   },
   "outputs": [],
   "source": [
    "# Put in our parameters for said classifiers\n",
    "lgb_param1 = {\n",
    "    'max_leaves':100,\n",
    "             'min_data_in_leaf': 177, \n",
    "             'max_depth': 60,\n",
    "            'feature_fraction':0.8,\n",
    "             'objective':'regression',\n",
    "             'learning_rate': 0.01,\n",
    "             \"boosting\": \"gbdt\",\n",
    "             \"bagging_seed\": 11,\n",
    "             \"metric\": 'rmse',\n",
    "             \"lambda_l1\": 0.1,\n",
    "             \"verbosity\": -1,\n",
    "             \"nthread\": 4,\n",
    "             \"random_state\": 4590}\n",
    "### Lightgbm\n",
    "def run_lgb1(df_train,df_test,df_train_columns,lgb_params):\n",
    "    param =  lgb_params\n",
    "    val_metrics=[]\n",
    "    oof_test_skf = np.empty((5, len(df_test)))\n",
    "    folds = StratifiedKFold(n_splits=5, shuffle=True, random_state=4590)\n",
    "    oof_train = np.zeros(len(df_train))\n",
    "    oof_test = np.zeros(len(df_test))\n",
    "    feature_importance_df = pd.DataFrame()\n",
    "    print(df_train.shape)\n",
    "    for fold_, (trn_idx, val_idx) in enumerate(folds.split(df_train,df_train['outliers'].values)):\n",
    "        print(\"fold {}\".format(fold_))\n",
    "        trn_data = lgb.Dataset(df_train.iloc[trn_idx][df_train_columns], label=target.iloc[trn_idx])#, categorical_feature=categorical_feats)\n",
    "        val_data = lgb.Dataset(df_train.iloc[val_idx][df_train_columns], label=target.iloc[val_idx])#, categorical_feature=categorical_feats)\n",
    "#         print(trn_data.shape,val_data.shape)\n",
    "        num_round = 3000\n",
    "        clf = lgb.train(param, trn_data, num_round, valid_sets = [trn_data, val_data], verbose_eval=100, early_stopping_rounds = 100)\n",
    "        oof_train[val_idx] = clf.predict(df_train.iloc[val_idx][df_train_columns], num_iteration=clf.best_iteration)\n",
    "#\n",
    "        fold_importance_df = pd.DataFrame()\n",
    "        fold_importance_df[\"Feature\"] = df_train_columns\n",
    "        fold_importance_df[\"importance\"] = clf.feature_importance()\n",
    "        \n",
    "        fold_importance_df[\"fold\"] = fold_ + 1\n",
    "        feature_importance_df = pd.concat([feature_importance_df, fold_importance_df], axis=0)\n",
    "\n",
    "        test_predictions = clf.predict(df_test[df_train_columns], num_iteration=clf.best_iteration)\n",
    "        oof_test_skf[fold_, :] = test_predictions\n",
    "        \n",
    "        predictions= clf.predict(df_train.iloc[val_idx][df_train_columns], num_iteration=clf.best_iteration)\n",
    "        val_metrics.append(np.sqrt(mean_squared_error(predictions, target.iloc[val_idx])))\n",
    "    oof_test[:] = oof_test_skf.mean(axis=0)\n",
    "    return feature_importance_df,oof_train.reshape(-1,1),oof_test.reshape(-1,1),val_metrics"
   ]
  },
  {
   "cell_type": "code",
   "execution_count": null,
   "metadata": {
    "collapsed": true,
    "scrolled": true
   },
   "outputs": [],
   "source": [
    "# import glob\n",
    "# folder =\"./ultimate2/features_80/*\"\n",
    "# folder_list=glob.glob(folder)\n",
    "# valid_results={}\n",
    "# file_list=[]\n",
    "# for folder in folder_list:\n",
    "#     file_list1=glob.glob(folder+\"/*.csv\")\n",
    "#     file_list.extend(file_list1)\n",
    "# train_features=feature_concat(df_train,file_list)\n",
    "# test_features=feature_concat(df_test,file_list)\n",
    "# numerics = ['int16', 'int32', 'int64', 'float16', 'float32', 'float64']\n",
    "# train_features.shape\n"
   ]
  },
  {
   "cell_type": "code",
   "execution_count": 12,
   "metadata": {},
   "outputs": [
    {
     "name": "stderr",
     "output_type": "stream",
     "text": [
      "C:\\Users\\HP\\Anaconda3\\lib\\site-packages\\IPython\\core\\interactiveshell.py:2802: DtypeWarning: Columns (1,9,17,30,41,50,62,71,79,89,99,108,120,130,138,151) have mixed types. Specify dtype option on import or set low_memory=False.\n",
      "  if self.run_code(code, result):\n"
     ]
    },
    {
     "name": "stdout",
     "output_type": "stream",
     "text": [
      "(201917, 605)\n"
     ]
    }
   ],
   "source": [
    "import glob\n",
    "file_list = glob.glob(\"C:/Kaggle competetion datasets/Elo Merchent Category Recommendation/Elo Feb 18th/ultimate2/features_90/features_90/*.csv\")\n",
    "train_features=feature_concat(df_train,file_list)\n",
    "test_features=feature_concat(df_test,file_list)\n",
    "print(train_features.shape)\n",
    "target = df_train['target']\n",
    "train_features=train_features.fillna(0)\n",
    "test_features=test_features.fillna(0)"
   ]
  },
  {
   "cell_type": "code",
   "execution_count": 13,
   "metadata": {},
   "outputs": [
    {
     "data": {
      "text/plain": [
       "(123623, 603)"
      ]
     },
     "execution_count": 13,
     "metadata": {},
     "output_type": "execute_result"
    }
   ],
   "source": [
    "test_featurest_features.shape"
   ]
  },
  {
   "cell_type": "markdown",
   "metadata": {},
   "source": [
    "## Model Run"
   ]
  },
  {
   "cell_type": "code",
   "execution_count": 17,
   "metadata": {
    "scrolled": true
   },
   "outputs": [
    {
     "name": "stdout",
     "output_type": "stream",
     "text": [
      "run 0\n",
      "(201917, 581)\n",
      "fold 0\n",
      "Training until validation scores don't improve for 100 rounds.\n",
      "[100]\ttraining's rmse: 3.61417\tvalid_1's rmse: 3.70085\n",
      "[200]\ttraining's rmse: 3.50625\tvalid_1's rmse: 3.66777\n",
      "[300]\ttraining's rmse: 3.42952\tvalid_1's rmse: 3.65694\n",
      "[400]\ttraining's rmse: 3.36832\tvalid_1's rmse: 3.65293\n",
      "[500]\ttraining's rmse: 3.31323\tvalid_1's rmse: 3.65217\n",
      "[600]\ttraining's rmse: 3.2625\tvalid_1's rmse: 3.65163\n",
      "[700]\ttraining's rmse: 3.21591\tvalid_1's rmse: 3.65216\n",
      "Early stopping, best iteration is:\n",
      "[608]\ttraining's rmse: 3.25832\tvalid_1's rmse: 3.65162\n",
      "fold 1\n",
      "Training until validation scores don't improve for 100 rounds.\n",
      "[100]\ttraining's rmse: 3.61792\tvalid_1's rmse: 3.69494\n",
      "[200]\ttraining's rmse: 3.51062\tvalid_1's rmse: 3.66574\n",
      "[300]\ttraining's rmse: 3.43034\tvalid_1's rmse: 3.65533\n",
      "[400]\ttraining's rmse: 3.36763\tvalid_1's rmse: 3.65171\n",
      "[500]\ttraining's rmse: 3.31198\tvalid_1's rmse: 3.64979\n",
      "[600]\ttraining's rmse: 3.26184\tvalid_1's rmse: 3.65008\n",
      "Early stopping, best iteration is:\n",
      "[506]\ttraining's rmse: 3.30893\tvalid_1's rmse: 3.6496\n",
      "fold 2\n",
      "Training until validation scores don't improve for 100 rounds.\n",
      "[100]\ttraining's rmse: 3.61487\tvalid_1's rmse: 3.70231\n",
      "[200]\ttraining's rmse: 3.50609\tvalid_1's rmse: 3.6699\n",
      "[300]\ttraining's rmse: 3.42746\tvalid_1's rmse: 3.6598\n",
      "[400]\ttraining's rmse: 3.36622\tvalid_1's rmse: 3.65502\n",
      "[500]\ttraining's rmse: 3.31037\tvalid_1's rmse: 3.65349\n",
      "[600]\ttraining's rmse: 3.25818\tvalid_1's rmse: 3.65319\n",
      "Early stopping, best iteration is:\n",
      "[538]\ttraining's rmse: 3.29006\tvalid_1's rmse: 3.65307\n",
      "fold 3\n",
      "Training until validation scores don't improve for 100 rounds.\n",
      "[100]\ttraining's rmse: 3.61351\tvalid_1's rmse: 3.70017\n",
      "[200]\ttraining's rmse: 3.50441\tvalid_1's rmse: 3.66997\n",
      "[300]\ttraining's rmse: 3.42543\tvalid_1's rmse: 3.66096\n",
      "[400]\ttraining's rmse: 3.36171\tvalid_1's rmse: 3.65809\n",
      "[500]\ttraining's rmse: 3.30481\tvalid_1's rmse: 3.6555\n",
      "[600]\ttraining's rmse: 3.25354\tvalid_1's rmse: 3.65498\n",
      "Early stopping, best iteration is:\n",
      "[559]\ttraining's rmse: 3.27453\tvalid_1's rmse: 3.65455\n",
      "fold 4\n",
      "Training until validation scores don't improve for 100 rounds.\n",
      "[100]\ttraining's rmse: 3.61667\tvalid_1's rmse: 3.68497\n",
      "[200]\ttraining's rmse: 3.50882\tvalid_1's rmse: 3.65762\n",
      "[300]\ttraining's rmse: 3.42832\tvalid_1's rmse: 3.65082\n",
      "[400]\ttraining's rmse: 3.36426\tvalid_1's rmse: 3.64901\n",
      "[500]\ttraining's rmse: 3.30911\tvalid_1's rmse: 3.64936\n",
      "Early stopping, best iteration is:\n",
      "[435]\ttraining's rmse: 3.3443\tvalid_1's rmse: 3.64833\n",
      "[3.6516173770000413, 3.6496040027920436, 3.65306753543654, 3.65454961667479, 3.6483263650362363]\n",
      "run 1\n",
      "(201917, 581)\n",
      "fold 0\n",
      "Training until validation scores don't improve for 100 rounds.\n",
      "[100]\ttraining's rmse: 3.61583\tvalid_1's rmse: 3.70953\n",
      "[200]\ttraining's rmse: 3.50488\tvalid_1's rmse: 3.67752\n",
      "[300]\ttraining's rmse: 3.42477\tvalid_1's rmse: 3.66929\n",
      "[400]\ttraining's rmse: 3.35729\tvalid_1's rmse: 3.66569\n",
      "[500]\ttraining's rmse: 3.2974\tvalid_1's rmse: 3.66477\n",
      "[600]\ttraining's rmse: 3.24047\tvalid_1's rmse: 3.66454\n",
      "Early stopping, best iteration is:\n",
      "[586]\ttraining's rmse: 3.2481\tvalid_1's rmse: 3.66429\n",
      "fold 1\n",
      "Training until validation scores don't improve for 100 rounds.\n",
      "[100]\ttraining's rmse: 3.61865\tvalid_1's rmse: 3.70072\n",
      "[200]\ttraining's rmse: 3.50685\tvalid_1's rmse: 3.67255\n",
      "[300]\ttraining's rmse: 3.42556\tvalid_1's rmse: 3.66464\n",
      "[400]\ttraining's rmse: 3.3585\tvalid_1's rmse: 3.6621\n",
      "[500]\ttraining's rmse: 3.29818\tvalid_1's rmse: 3.6622\n",
      "[600]\ttraining's rmse: 3.24333\tvalid_1's rmse: 3.66158\n",
      "Early stopping, best iteration is:\n",
      "[594]\ttraining's rmse: 3.24693\tvalid_1's rmse: 3.6614\n",
      "fold 2\n",
      "Training until validation scores don't improve for 100 rounds.\n",
      "[100]\ttraining's rmse: 3.61452\tvalid_1's rmse: 3.70865\n",
      "[200]\ttraining's rmse: 3.50526\tvalid_1's rmse: 3.67792\n",
      "[300]\ttraining's rmse: 3.4253\tvalid_1's rmse: 3.66813\n",
      "[400]\ttraining's rmse: 3.35857\tvalid_1's rmse: 3.66199\n",
      "[500]\ttraining's rmse: 3.29995\tvalid_1's rmse: 3.65984\n",
      "[600]\ttraining's rmse: 3.24429\tvalid_1's rmse: 3.65886\n",
      "[700]\ttraining's rmse: 3.19112\tvalid_1's rmse: 3.65906\n",
      "[800]\ttraining's rmse: 3.1417\tvalid_1's rmse: 3.65917\n",
      "Early stopping, best iteration is:\n",
      "[720]\ttraining's rmse: 3.18082\tvalid_1's rmse: 3.65874\n",
      "fold 3\n",
      "Training until validation scores don't improve for 100 rounds.\n",
      "[100]\ttraining's rmse: 3.61174\tvalid_1's rmse: 3.70089\n",
      "[200]\ttraining's rmse: 3.49903\tvalid_1's rmse: 3.67706\n",
      "[300]\ttraining's rmse: 3.41735\tvalid_1's rmse: 3.67453\n",
      "[400]\ttraining's rmse: 3.34864\tvalid_1's rmse: 3.67194\n",
      "[500]\ttraining's rmse: 3.28671\tvalid_1's rmse: 3.67105\n",
      "Early stopping, best iteration is:\n",
      "[483]\ttraining's rmse: 3.29672\tvalid_1's rmse: 3.67086\n",
      "fold 4\n",
      "Training until validation scores don't improve for 100 rounds.\n",
      "[100]\ttraining's rmse: 3.61606\tvalid_1's rmse: 3.69342\n",
      "[200]\ttraining's rmse: 3.50445\tvalid_1's rmse: 3.66447\n",
      "[300]\ttraining's rmse: 3.42126\tvalid_1's rmse: 3.65828\n",
      "[400]\ttraining's rmse: 3.35293\tvalid_1's rmse: 3.65516\n",
      "[500]\ttraining's rmse: 3.29184\tvalid_1's rmse: 3.65441\n",
      "Early stopping, best iteration is:\n",
      "[461]\ttraining's rmse: 3.31511\tvalid_1's rmse: 3.65395\n",
      "[3.664292834278086, 3.66140381643311, 3.65873608725064, 3.6708603199142398, 3.6539527601592576]\n",
      "run 2\n",
      "(201917, 581)\n",
      "fold 0\n",
      "Training until validation scores don't improve for 100 rounds.\n",
      "[100]\ttraining's rmse: 3.61541\tvalid_1's rmse: 3.70084\n",
      "[200]\ttraining's rmse: 3.50962\tvalid_1's rmse: 3.66662\n",
      "[300]\ttraining's rmse: 3.43371\tvalid_1's rmse: 3.65512\n",
      "[400]\ttraining's rmse: 3.37242\tvalid_1's rmse: 3.65032\n",
      "[500]\ttraining's rmse: 3.31801\tvalid_1's rmse: 3.64883\n",
      "[600]\ttraining's rmse: 3.2678\tvalid_1's rmse: 3.64836\n",
      "Early stopping, best iteration is:\n",
      "[530]\ttraining's rmse: 3.3025\tvalid_1's rmse: 3.64824\n",
      "fold 1\n",
      "Training until validation scores don't improve for 100 rounds.\n",
      "[100]\ttraining's rmse: 3.61869\tvalid_1's rmse: 3.69448\n",
      "[200]\ttraining's rmse: 3.5127\tvalid_1's rmse: 3.66543\n",
      "[300]\ttraining's rmse: 3.43374\tvalid_1's rmse: 3.65456\n",
      "[400]\ttraining's rmse: 3.37219\tvalid_1's rmse: 3.6515\n",
      "[500]\ttraining's rmse: 3.31722\tvalid_1's rmse: 3.65039\n",
      "[600]\ttraining's rmse: 3.26767\tvalid_1's rmse: 3.64981\n",
      "Early stopping, best iteration is:\n",
      "[573]\ttraining's rmse: 3.28084\tvalid_1's rmse: 3.64966\n",
      "fold 2\n",
      "Training until validation scores don't improve for 100 rounds.\n",
      "[100]\ttraining's rmse: 3.61645\tvalid_1's rmse: 3.70203\n",
      "[200]\ttraining's rmse: 3.50913\tvalid_1's rmse: 3.67056\n",
      "[300]\ttraining's rmse: 3.43236\tvalid_1's rmse: 3.65923\n",
      "[400]\ttraining's rmse: 3.37144\tvalid_1's rmse: 3.65425\n",
      "[500]\ttraining's rmse: 3.31532\tvalid_1's rmse: 3.65265\n",
      "[600]\ttraining's rmse: 3.2631\tvalid_1's rmse: 3.65266\n",
      "Early stopping, best iteration is:\n",
      "[585]\ttraining's rmse: 3.27109\tvalid_1's rmse: 3.65252\n",
      "fold 3\n",
      "Training until validation scores don't improve for 100 rounds.\n",
      "[100]\ttraining's rmse: 3.615\tvalid_1's rmse: 3.69968\n",
      "[200]\ttraining's rmse: 3.50704\tvalid_1's rmse: 3.66949\n",
      "[300]\ttraining's rmse: 3.42969\tvalid_1's rmse: 3.66217\n",
      "[400]\ttraining's rmse: 3.36559\tvalid_1's rmse: 3.66056\n",
      "[500]\ttraining's rmse: 3.31013\tvalid_1's rmse: 3.6594\n",
      "[600]\ttraining's rmse: 3.25857\tvalid_1's rmse: 3.65933\n",
      "[700]\ttraining's rmse: 3.21166\tvalid_1's rmse: 3.65916\n",
      "Early stopping, best iteration is:\n",
      "[665]\ttraining's rmse: 3.22736\tvalid_1's rmse: 3.65868\n",
      "fold 4\n",
      "Training until validation scores don't improve for 100 rounds.\n",
      "[100]\ttraining's rmse: 3.61853\tvalid_1's rmse: 3.68454\n",
      "[200]\ttraining's rmse: 3.51221\tvalid_1's rmse: 3.65949\n",
      "[300]\ttraining's rmse: 3.43344\tvalid_1's rmse: 3.6515\n",
      "[400]\ttraining's rmse: 3.37211\tvalid_1's rmse: 3.64855\n",
      "[500]\ttraining's rmse: 3.31636\tvalid_1's rmse: 3.64758\n",
      "[600]\ttraining's rmse: 3.26468\tvalid_1's rmse: 3.64825\n",
      "Early stopping, best iteration is:\n",
      "[521]\ttraining's rmse: 3.30535\tvalid_1's rmse: 3.64751\n",
      "[3.64824319847763, 3.649664252934577, 3.652518145218968, 3.658676849616145, 3.6475050907815256]\n",
      "run 3\n",
      "(201917, 581)\n",
      "fold 0\n",
      "Training until validation scores don't improve for 100 rounds.\n",
      "[100]\ttraining's rmse: 3.61684\tvalid_1's rmse: 3.71128\n",
      "[200]\ttraining's rmse: 3.50777\tvalid_1's rmse: 3.6782\n",
      "[300]\ttraining's rmse: 3.4291\tvalid_1's rmse: 3.6698\n",
      "[400]\ttraining's rmse: 3.36416\tvalid_1's rmse: 3.66492\n",
      "[500]\ttraining's rmse: 3.305\tvalid_1's rmse: 3.66432\n",
      "[600]\ttraining's rmse: 3.2502\tvalid_1's rmse: 3.66401\n",
      "Early stopping, best iteration is:\n",
      "[563]\ttraining's rmse: 3.26935\tvalid_1's rmse: 3.66364\n"
     ]
    },
    {
     "name": "stdout",
     "output_type": "stream",
     "text": [
      "fold 1\n",
      "Training until validation scores don't improve for 100 rounds.\n",
      "[100]\ttraining's rmse: 3.61999\tvalid_1's rmse: 3.6997\n",
      "[200]\ttraining's rmse: 3.50877\tvalid_1's rmse: 3.67186\n",
      "[300]\ttraining's rmse: 3.42909\tvalid_1's rmse: 3.66332\n",
      "[400]\ttraining's rmse: 3.36293\tvalid_1's rmse: 3.65993\n",
      "[500]\ttraining's rmse: 3.30319\tvalid_1's rmse: 3.65915\n",
      "[600]\ttraining's rmse: 3.24749\tvalid_1's rmse: 3.65868\n",
      "[700]\ttraining's rmse: 3.19659\tvalid_1's rmse: 3.65954\n",
      "Early stopping, best iteration is:\n",
      "[606]\ttraining's rmse: 3.2445\tvalid_1's rmse: 3.65843\n",
      "fold 2\n",
      "Training until validation scores don't improve for 100 rounds.\n",
      "[100]\ttraining's rmse: 3.61674\tvalid_1's rmse: 3.70828\n",
      "[200]\ttraining's rmse: 3.50881\tvalid_1's rmse: 3.67625\n",
      "[300]\ttraining's rmse: 3.42955\tvalid_1's rmse: 3.666\n",
      "[400]\ttraining's rmse: 3.36419\tvalid_1's rmse: 3.65976\n",
      "[500]\ttraining's rmse: 3.30569\tvalid_1's rmse: 3.65732\n",
      "[600]\ttraining's rmse: 3.25106\tvalid_1's rmse: 3.65616\n",
      "[700]\ttraining's rmse: 3.19974\tvalid_1's rmse: 3.65613\n",
      "Early stopping, best iteration is:\n",
      "[658]\ttraining's rmse: 3.22065\tvalid_1's rmse: 3.65561\n",
      "fold 3\n",
      "Training until validation scores don't improve for 100 rounds.\n",
      "[100]\ttraining's rmse: 3.61319\tvalid_1's rmse: 3.70167\n",
      "[200]\ttraining's rmse: 3.50163\tvalid_1's rmse: 3.67925\n",
      "[300]\ttraining's rmse: 3.42108\tvalid_1's rmse: 3.67687\n",
      "[400]\ttraining's rmse: 3.35344\tvalid_1's rmse: 3.67605\n",
      "[500]\ttraining's rmse: 3.29239\tvalid_1's rmse: 3.67568\n",
      "Early stopping, best iteration is:\n",
      "[451]\ttraining's rmse: 3.32177\tvalid_1's rmse: 3.67478\n",
      "fold 4\n",
      "Training until validation scores don't improve for 100 rounds.\n",
      "[100]\ttraining's rmse: 3.61814\tvalid_1's rmse: 3.69348\n",
      "[200]\ttraining's rmse: 3.50726\tvalid_1's rmse: 3.66604\n",
      "[300]\ttraining's rmse: 3.42573\tvalid_1's rmse: 3.66024\n",
      "[400]\ttraining's rmse: 3.35775\tvalid_1's rmse: 3.65766\n",
      "[500]\ttraining's rmse: 3.29765\tvalid_1's rmse: 3.65679\n",
      "Early stopping, best iteration is:\n",
      "[450]\ttraining's rmse: 3.32727\tvalid_1's rmse: 3.65626\n",
      "[3.663635698563835, 3.658425120508778, 3.6556069162887934, 3.674778094249797, 3.6562614851276143]\n"
     ]
    }
   ],
   "source": [
    "all_results=[]\n",
    "for i in range(0,4):\n",
    "    print(\"run\",i)\n",
    "    if i==0:\n",
    "        numerics = ['int16', 'int32', 'int64', 'float16', 'float32', 'float64']\n",
    "        train_features = train_features.select_dtypes(include=numerics)\n",
    "        train_features.columns = [x.replace(\"<lambda>\",\"range\") for x in train_features.columns]\n",
    "        test_features.columns = [x.replace(\"<lambda>\",\"range\") for x in test_features.columns]\n",
    "        df_train_columns = [c for c in train_features.columns if c not in ['card_id', 'first_active_month','target','outliers','class_outcome']]\n",
    "    if i==1:\n",
    "        df_train_columns = [c for c in train_features.columns if c not in ['card_id', 'first_active_month','target','outliers']]\n",
    "    if i==2:\n",
    "        df_train_columns = imp_features1.copy()\n",
    "    if i==3:\n",
    "        df_train_columns.extend(['class_outcome'])\n",
    "    if i==0:\n",
    "        imp_features1 = imp_features.groupby('Feature').agg({'importance':sum}).reset_index().sort_values(by = 'importance', ascending = False).head(250)['Feature'].tolist()\n",
    "    imp_features,lgb_oof_train, lgb_oof_test,val_metrics_gb=run_lgb1(train_features,test_features,df_train_columns, lgb_param1)\n",
    "    print(val_metrics_gb)\n",
    "    all_results.append([imp_features,lgb_oof_train, lgb_oof_test,val_metrics_gb])\n",
    "import pickle\n",
    "pickle.dump( all_results, open( \"C:/Kaggle competetion datasets/Elo Merchent Category Recommendation/Elo Feb 18th/ultimate2/pickle_results/results_85.pickle\", \"wb\" ) )\n",
    "\n"
   ]
  },
  {
   "cell_type": "code",
   "execution_count": 18,
   "metadata": {},
   "outputs": [],
   "source": [
    "# for i in range(0,4):\n",
    "#     print(\"run\",i)\n",
    "#     if i==0:\n",
    "#         numerics = ['int16', 'int32', 'int64', 'float16', 'float32', 'float64']\n",
    "#         train_features = train_features.select_dtypes(include=numerics)\n",
    "#         train_features.columns = [x.replace(\"<lambda>\",\"range\") for x in train_features.columns]\n",
    "#         test_features.columns = [x.replace(\"<lambda>\",\"range\") for x in test_features.columns]\n",
    "#         df_train_columns = [c for c in train_features.columns if c not in ['card_id', 'first_active_month','target','outliers','class_outcome']]\n",
    "#     if i==1:\n",
    "#         df_train_columns = [c for c in train_features.columns if c not in ['card_id', 'first_active_month','target','outliers']]\n",
    "#     if i==2:\n",
    "#         df_train_columns = imp_features1.copy()\n",
    "#     if i==3:\n",
    "#         df_train_columns.extend(['class_outcome'])\n",
    "#     print(len(df_train_columns))"
   ]
  },
  {
   "cell_type": "code",
   "execution_count": null,
   "metadata": {
    "collapsed": true
   },
   "outputs": [],
   "source": []
  }
 ],
 "metadata": {
  "kernelspec": {
   "display_name": "Python 3",
   "language": "python",
   "name": "python3"
  },
  "language_info": {
   "codemirror_mode": {
    "name": "ipython",
    "version": 3
   },
   "file_extension": ".py",
   "mimetype": "text/x-python",
   "name": "python",
   "nbconvert_exporter": "python",
   "pygments_lexer": "ipython3",
   "version": "3.6.2"
  }
 },
 "nbformat": 4,
 "nbformat_minor": 2
}
